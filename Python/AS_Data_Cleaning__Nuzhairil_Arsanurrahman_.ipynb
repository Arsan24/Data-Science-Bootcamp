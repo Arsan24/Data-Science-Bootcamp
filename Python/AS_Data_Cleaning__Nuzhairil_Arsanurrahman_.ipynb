{
  "nbformat": 4,
  "nbformat_minor": 0,
  "metadata": {
    "colab": {
      "provenance": [],
      "toc_visible": true
    },
    "kernelspec": {
      "name": "python3",
      "display_name": "Python 3"
    },
    "language_info": {
      "name": "python"
    }
  },
  "cells": [
    {
      "cell_type": "markdown",
      "source": [
        "# Import library"
      ],
      "metadata": {
        "id": "gBQGiX_7FaR5"
      }
    },
    {
      "cell_type": "code",
      "execution_count": null,
      "metadata": {
        "id": "2H42dvizDK7c"
      },
      "outputs": [],
      "source": [
        "import pandas as pd\n",
        "pd.set_option('display.max_columns', None)\n",
        "import numpy as np\n",
        "import matplotlib.pyplot as plt\n",
        "import seaborn as sns"
      ]
    },
    {
      "cell_type": "markdown",
      "source": [
        "# Read Dataset"
      ],
      "metadata": {
        "id": "vT-Do7oXFgSR"
      }
    },
    {
      "cell_type": "code",
      "source": [
        "df = pd.read_csv('/content/linkdin_Job_data.csv')"
      ],
      "metadata": {
        "id": "80Q_YbzAFf8D"
      },
      "execution_count": null,
      "outputs": []
    },
    {
      "cell_type": "code",
      "source": [
        "df.head(2)"
      ],
      "metadata": {
        "colab": {
          "base_uri": "https://localhost:8080/",
          "height": 306
        },
        "id": "gHqE3URHFdZ7",
        "outputId": "df7067a3-63fb-44ca-928b-61707045313b"
      },
      "execution_count": null,
      "outputs": [
        {
          "output_type": "execute_result",
          "data": {
            "text/plain": [
              "       job_ID                                                job  \\\n",
              "0  3471657636  Data Analyst, Trilogy (Remote) - $60,000/year USD   \n",
              "1  3471669068  Data Analyst, Trilogy (Remote) - $60,000/year USD   \n",
              "\n",
              "                  location  company_id company_name work_type  \\\n",
              "0      Delhi, Delhi, India         NaN    Crossover    Remote   \n",
              "1  New Delhi, Delhi, India         NaN    Crossover    Remote   \n",
              "\n",
              "        full_time_remote                                       no_of_employ  \\\n",
              "0  Full-time · Associate  1,001-5,000 employees · IT Services and IT Con...   \n",
              "1  Full-time · Associate  1,001-5,000 employees · IT Services and IT Con...   \n",
              "\n",
              "  no_of_application posted_day_ago             alumni Hiring_person  \\\n",
              "0               200        8 hours  12 company alumni           NaN   \n",
              "1               184        8 hours  12 company alumni           NaN   \n",
              "\n",
              "    linkedin_followers hiring_person_link  \\\n",
              "0  5,395,547 followers                NaN   \n",
              "1  5,395,547 followers                NaN   \n",
              "\n",
              "                                         job_details  Column1  \n",
              "0  About the job Crossover is the world's #1 sour...      NaN  \n",
              "1  About the job Crossover is the world's #1 sour...      NaN  "
            ],
            "text/html": [
              "\n",
              "  <div id=\"df-a0fb4587-0b03-4d13-80ce-7b6ea3d7ecfa\" class=\"colab-df-container\">\n",
              "    <div>\n",
              "<style scoped>\n",
              "    .dataframe tbody tr th:only-of-type {\n",
              "        vertical-align: middle;\n",
              "    }\n",
              "\n",
              "    .dataframe tbody tr th {\n",
              "        vertical-align: top;\n",
              "    }\n",
              "\n",
              "    .dataframe thead th {\n",
              "        text-align: right;\n",
              "    }\n",
              "</style>\n",
              "<table border=\"1\" class=\"dataframe\">\n",
              "  <thead>\n",
              "    <tr style=\"text-align: right;\">\n",
              "      <th></th>\n",
              "      <th>job_ID</th>\n",
              "      <th>job</th>\n",
              "      <th>location</th>\n",
              "      <th>company_id</th>\n",
              "      <th>company_name</th>\n",
              "      <th>work_type</th>\n",
              "      <th>full_time_remote</th>\n",
              "      <th>no_of_employ</th>\n",
              "      <th>no_of_application</th>\n",
              "      <th>posted_day_ago</th>\n",
              "      <th>alumni</th>\n",
              "      <th>Hiring_person</th>\n",
              "      <th>linkedin_followers</th>\n",
              "      <th>hiring_person_link</th>\n",
              "      <th>job_details</th>\n",
              "      <th>Column1</th>\n",
              "    </tr>\n",
              "  </thead>\n",
              "  <tbody>\n",
              "    <tr>\n",
              "      <th>0</th>\n",
              "      <td>3471657636</td>\n",
              "      <td>Data Analyst, Trilogy (Remote) - $60,000/year USD</td>\n",
              "      <td>Delhi, Delhi, India</td>\n",
              "      <td>NaN</td>\n",
              "      <td>Crossover</td>\n",
              "      <td>Remote</td>\n",
              "      <td>Full-time · Associate</td>\n",
              "      <td>1,001-5,000 employees · IT Services and IT Con...</td>\n",
              "      <td>200</td>\n",
              "      <td>8 hours</td>\n",
              "      <td>12 company alumni</td>\n",
              "      <td>NaN</td>\n",
              "      <td>5,395,547 followers</td>\n",
              "      <td>NaN</td>\n",
              "      <td>About the job Crossover is the world's #1 sour...</td>\n",
              "      <td>NaN</td>\n",
              "    </tr>\n",
              "    <tr>\n",
              "      <th>1</th>\n",
              "      <td>3471669068</td>\n",
              "      <td>Data Analyst, Trilogy (Remote) - $60,000/year USD</td>\n",
              "      <td>New Delhi, Delhi, India</td>\n",
              "      <td>NaN</td>\n",
              "      <td>Crossover</td>\n",
              "      <td>Remote</td>\n",
              "      <td>Full-time · Associate</td>\n",
              "      <td>1,001-5,000 employees · IT Services and IT Con...</td>\n",
              "      <td>184</td>\n",
              "      <td>8 hours</td>\n",
              "      <td>12 company alumni</td>\n",
              "      <td>NaN</td>\n",
              "      <td>5,395,547 followers</td>\n",
              "      <td>NaN</td>\n",
              "      <td>About the job Crossover is the world's #1 sour...</td>\n",
              "      <td>NaN</td>\n",
              "    </tr>\n",
              "  </tbody>\n",
              "</table>\n",
              "</div>\n",
              "    <div class=\"colab-df-buttons\">\n",
              "\n",
              "  <div class=\"colab-df-container\">\n",
              "    <button class=\"colab-df-convert\" onclick=\"convertToInteractive('df-a0fb4587-0b03-4d13-80ce-7b6ea3d7ecfa')\"\n",
              "            title=\"Convert this dataframe to an interactive table.\"\n",
              "            style=\"display:none;\">\n",
              "\n",
              "  <svg xmlns=\"http://www.w3.org/2000/svg\" height=\"24px\" viewBox=\"0 -960 960 960\">\n",
              "    <path d=\"M120-120v-720h720v720H120Zm60-500h600v-160H180v160Zm220 220h160v-160H400v160Zm0 220h160v-160H400v160ZM180-400h160v-160H180v160Zm440 0h160v-160H620v160ZM180-180h160v-160H180v160Zm440 0h160v-160H620v160Z\"/>\n",
              "  </svg>\n",
              "    </button>\n",
              "\n",
              "  <style>\n",
              "    .colab-df-container {\n",
              "      display:flex;\n",
              "      gap: 12px;\n",
              "    }\n",
              "\n",
              "    .colab-df-convert {\n",
              "      background-color: #E8F0FE;\n",
              "      border: none;\n",
              "      border-radius: 50%;\n",
              "      cursor: pointer;\n",
              "      display: none;\n",
              "      fill: #1967D2;\n",
              "      height: 32px;\n",
              "      padding: 0 0 0 0;\n",
              "      width: 32px;\n",
              "    }\n",
              "\n",
              "    .colab-df-convert:hover {\n",
              "      background-color: #E2EBFA;\n",
              "      box-shadow: 0px 1px 2px rgba(60, 64, 67, 0.3), 0px 1px 3px 1px rgba(60, 64, 67, 0.15);\n",
              "      fill: #174EA6;\n",
              "    }\n",
              "\n",
              "    .colab-df-buttons div {\n",
              "      margin-bottom: 4px;\n",
              "    }\n",
              "\n",
              "    [theme=dark] .colab-df-convert {\n",
              "      background-color: #3B4455;\n",
              "      fill: #D2E3FC;\n",
              "    }\n",
              "\n",
              "    [theme=dark] .colab-df-convert:hover {\n",
              "      background-color: #434B5C;\n",
              "      box-shadow: 0px 1px 3px 1px rgba(0, 0, 0, 0.15);\n",
              "      filter: drop-shadow(0px 1px 2px rgba(0, 0, 0, 0.3));\n",
              "      fill: #FFFFFF;\n",
              "    }\n",
              "  </style>\n",
              "\n",
              "    <script>\n",
              "      const buttonEl =\n",
              "        document.querySelector('#df-a0fb4587-0b03-4d13-80ce-7b6ea3d7ecfa button.colab-df-convert');\n",
              "      buttonEl.style.display =\n",
              "        google.colab.kernel.accessAllowed ? 'block' : 'none';\n",
              "\n",
              "      async function convertToInteractive(key) {\n",
              "        const element = document.querySelector('#df-a0fb4587-0b03-4d13-80ce-7b6ea3d7ecfa');\n",
              "        const dataTable =\n",
              "          await google.colab.kernel.invokeFunction('convertToInteractive',\n",
              "                                                    [key], {});\n",
              "        if (!dataTable) return;\n",
              "\n",
              "        const docLinkHtml = 'Like what you see? Visit the ' +\n",
              "          '<a target=\"_blank\" href=https://colab.research.google.com/notebooks/data_table.ipynb>data table notebook</a>'\n",
              "          + ' to learn more about interactive tables.';\n",
              "        element.innerHTML = '';\n",
              "        dataTable['output_type'] = 'display_data';\n",
              "        await google.colab.output.renderOutput(dataTable, element);\n",
              "        const docLink = document.createElement('div');\n",
              "        docLink.innerHTML = docLinkHtml;\n",
              "        element.appendChild(docLink);\n",
              "      }\n",
              "    </script>\n",
              "  </div>\n",
              "\n",
              "\n",
              "<div id=\"df-13ad88bb-18f3-4dd9-9270-963177be8293\">\n",
              "  <button class=\"colab-df-quickchart\" onclick=\"quickchart('df-13ad88bb-18f3-4dd9-9270-963177be8293')\"\n",
              "            title=\"Suggest charts\"\n",
              "            style=\"display:none;\">\n",
              "\n",
              "<svg xmlns=\"http://www.w3.org/2000/svg\" height=\"24px\"viewBox=\"0 0 24 24\"\n",
              "     width=\"24px\">\n",
              "    <g>\n",
              "        <path d=\"M19 3H5c-1.1 0-2 .9-2 2v14c0 1.1.9 2 2 2h14c1.1 0 2-.9 2-2V5c0-1.1-.9-2-2-2zM9 17H7v-7h2v7zm4 0h-2V7h2v10zm4 0h-2v-4h2v4z\"/>\n",
              "    </g>\n",
              "</svg>\n",
              "  </button>\n",
              "\n",
              "<style>\n",
              "  .colab-df-quickchart {\n",
              "      --bg-color: #E8F0FE;\n",
              "      --fill-color: #1967D2;\n",
              "      --hover-bg-color: #E2EBFA;\n",
              "      --hover-fill-color: #174EA6;\n",
              "      --disabled-fill-color: #AAA;\n",
              "      --disabled-bg-color: #DDD;\n",
              "  }\n",
              "\n",
              "  [theme=dark] .colab-df-quickchart {\n",
              "      --bg-color: #3B4455;\n",
              "      --fill-color: #D2E3FC;\n",
              "      --hover-bg-color: #434B5C;\n",
              "      --hover-fill-color: #FFFFFF;\n",
              "      --disabled-bg-color: #3B4455;\n",
              "      --disabled-fill-color: #666;\n",
              "  }\n",
              "\n",
              "  .colab-df-quickchart {\n",
              "    background-color: var(--bg-color);\n",
              "    border: none;\n",
              "    border-radius: 50%;\n",
              "    cursor: pointer;\n",
              "    display: none;\n",
              "    fill: var(--fill-color);\n",
              "    height: 32px;\n",
              "    padding: 0;\n",
              "    width: 32px;\n",
              "  }\n",
              "\n",
              "  .colab-df-quickchart:hover {\n",
              "    background-color: var(--hover-bg-color);\n",
              "    box-shadow: 0 1px 2px rgba(60, 64, 67, 0.3), 0 1px 3px 1px rgba(60, 64, 67, 0.15);\n",
              "    fill: var(--button-hover-fill-color);\n",
              "  }\n",
              "\n",
              "  .colab-df-quickchart-complete:disabled,\n",
              "  .colab-df-quickchart-complete:disabled:hover {\n",
              "    background-color: var(--disabled-bg-color);\n",
              "    fill: var(--disabled-fill-color);\n",
              "    box-shadow: none;\n",
              "  }\n",
              "\n",
              "  .colab-df-spinner {\n",
              "    border: 2px solid var(--fill-color);\n",
              "    border-color: transparent;\n",
              "    border-bottom-color: var(--fill-color);\n",
              "    animation:\n",
              "      spin 1s steps(1) infinite;\n",
              "  }\n",
              "\n",
              "  @keyframes spin {\n",
              "    0% {\n",
              "      border-color: transparent;\n",
              "      border-bottom-color: var(--fill-color);\n",
              "      border-left-color: var(--fill-color);\n",
              "    }\n",
              "    20% {\n",
              "      border-color: transparent;\n",
              "      border-left-color: var(--fill-color);\n",
              "      border-top-color: var(--fill-color);\n",
              "    }\n",
              "    30% {\n",
              "      border-color: transparent;\n",
              "      border-left-color: var(--fill-color);\n",
              "      border-top-color: var(--fill-color);\n",
              "      border-right-color: var(--fill-color);\n",
              "    }\n",
              "    40% {\n",
              "      border-color: transparent;\n",
              "      border-right-color: var(--fill-color);\n",
              "      border-top-color: var(--fill-color);\n",
              "    }\n",
              "    60% {\n",
              "      border-color: transparent;\n",
              "      border-right-color: var(--fill-color);\n",
              "    }\n",
              "    80% {\n",
              "      border-color: transparent;\n",
              "      border-right-color: var(--fill-color);\n",
              "      border-bottom-color: var(--fill-color);\n",
              "    }\n",
              "    90% {\n",
              "      border-color: transparent;\n",
              "      border-bottom-color: var(--fill-color);\n",
              "    }\n",
              "  }\n",
              "</style>\n",
              "\n",
              "  <script>\n",
              "    async function quickchart(key) {\n",
              "      const quickchartButtonEl =\n",
              "        document.querySelector('#' + key + ' button');\n",
              "      quickchartButtonEl.disabled = true;  // To prevent multiple clicks.\n",
              "      quickchartButtonEl.classList.add('colab-df-spinner');\n",
              "      try {\n",
              "        const charts = await google.colab.kernel.invokeFunction(\n",
              "            'suggestCharts', [key], {});\n",
              "      } catch (error) {\n",
              "        console.error('Error during call to suggestCharts:', error);\n",
              "      }\n",
              "      quickchartButtonEl.classList.remove('colab-df-spinner');\n",
              "      quickchartButtonEl.classList.add('colab-df-quickchart-complete');\n",
              "    }\n",
              "    (() => {\n",
              "      let quickchartButtonEl =\n",
              "        document.querySelector('#df-13ad88bb-18f3-4dd9-9270-963177be8293 button');\n",
              "      quickchartButtonEl.style.display =\n",
              "        google.colab.kernel.accessAllowed ? 'block' : 'none';\n",
              "    })();\n",
              "  </script>\n",
              "</div>\n",
              "\n",
              "    </div>\n",
              "  </div>\n"
            ],
            "application/vnd.google.colaboratory.intrinsic+json": {
              "type": "dataframe",
              "variable_name": "df",
              "summary": "{\n  \"name\": \"df\",\n  \"rows\": 7927,\n  \"fields\": [\n    {\n      \"column\": \"job_ID\",\n      \"properties\": {\n        \"dtype\": \"number\",\n        \"std\": 57780111,\n        \"min\": 141921619,\n        \"max\": 3477823471,\n        \"num_unique_values\": 5843,\n        \"samples\": [\n          3476403016,\n          3472813901,\n          3472815586\n        ],\n        \"semantic_type\": \"\",\n        \"description\": \"\"\n      }\n    },\n    {\n      \"column\": \"job\",\n      \"properties\": {\n        \"dtype\": \"category\",\n        \"num_unique_values\": 2991,\n        \"samples\": [\n          \"Professor of Computer Science & MBA\",\n          \"Senior Research Associate /Research Analyst- Chemicals, Materials and Energy\",\n          \"Azure Devops Engineer\"\n        ],\n        \"semantic_type\": \"\",\n        \"description\": \"\"\n      }\n    },\n    {\n      \"column\": \"location\",\n      \"properties\": {\n        \"dtype\": \"category\",\n        \"num_unique_values\": 151,\n        \"samples\": [\n          \"Ambala, Haryana, India\",\n          \"Vadodara, Gujarat, India\",\n          \"South Delhi, Delhi, India\"\n        ],\n        \"semantic_type\": \"\",\n        \"description\": \"\"\n      }\n    },\n    {\n      \"column\": \"company_id\",\n      \"properties\": {\n        \"dtype\": \"number\",\n        \"std\": null,\n        \"min\": null,\n        \"max\": null,\n        \"num_unique_values\": 0,\n        \"samples\": [],\n        \"semantic_type\": \"\",\n        \"description\": \"\"\n      }\n    },\n    {\n      \"column\": \"company_name\",\n      \"properties\": {\n        \"dtype\": \"category\",\n        \"num_unique_values\": 2495,\n        \"samples\": [],\n        \"semantic_type\": \"\",\n        \"description\": \"\"\n      }\n    },\n    {\n      \"column\": \"work_type\",\n      \"properties\": {\n        \"dtype\": \"category\",\n        \"num_unique_values\": 3,\n        \"samples\": [],\n        \"semantic_type\": \"\",\n        \"description\": \"\"\n      }\n    },\n    {\n      \"column\": \"full_time_remote\",\n      \"properties\": {\n        \"dtype\": \"category\",\n        \"num_unique_values\": 23,\n        \"samples\": [],\n        \"semantic_type\": \"\",\n        \"description\": \"\"\n      }\n    },\n    {\n      \"column\": \"no_of_employ\",\n      \"properties\": {\n        \"dtype\": \"category\",\n        \"num_unique_values\": 269,\n        \"samples\": [],\n        \"semantic_type\": \"\",\n        \"description\": \"\"\n      }\n    },\n    {\n      \"column\": \"no_of_application\",\n      \"properties\": {\n        \"dtype\": \"category\",\n        \"num_unique_values\": 202,\n        \"samples\": [],\n        \"semantic_type\": \"\",\n        \"description\": \"\"\n      }\n    },\n    {\n      \"column\": \"posted_day_ago\",\n      \"properties\": {\n        \"dtype\": \"category\",\n        \"num_unique_values\": 91,\n        \"samples\": [],\n        \"semantic_type\": \"\",\n        \"description\": \"\"\n      }\n    },\n    {\n      \"column\": \"alumni\",\n      \"properties\": {\n        \"dtype\": \"category\",\n        \"num_unique_values\": 191,\n        \"samples\": [],\n        \"semantic_type\": \"\",\n        \"description\": \"\"\n      }\n    },\n    {\n      \"column\": \"Hiring_person\",\n      \"properties\": {\n        \"dtype\": \"category\",\n        \"num_unique_values\": 2823,\n        \"samples\": [],\n        \"semantic_type\": \"\",\n        \"description\": \"\"\n      }\n    },\n    {\n      \"column\": \"linkedin_followers\",\n      \"properties\": {\n        \"dtype\": \"category\",\n        \"num_unique_values\": 3935,\n        \"samples\": [],\n        \"semantic_type\": \"\",\n        \"description\": \"\"\n      }\n    },\n    {\n      \"column\": \"hiring_person_link\",\n      \"properties\": {\n        \"dtype\": \"category\",\n        \"num_unique_values\": 2845,\n        \"samples\": [],\n        \"semantic_type\": \"\",\n        \"description\": \"\"\n      }\n    },\n    {\n      \"column\": \"job_details\",\n      \"properties\": {\n        \"dtype\": \"string\",\n        \"num_unique_values\": 4563,\n        \"samples\": [],\n        \"semantic_type\": \"\",\n        \"description\": \"\"\n      }\n    },\n    {\n      \"column\": \"Column1\",\n      \"properties\": {\n        \"dtype\": \"number\",\n        \"std\": null,\n        \"min\": null,\n        \"max\": null,\n        \"num_unique_values\": 0,\n        \"samples\": [],\n        \"semantic_type\": \"\",\n        \"description\": \"\"\n      }\n    }\n  ]\n}"
            }
          },
          "metadata": {},
          "execution_count": 3
        }
      ]
    },
    {
      "cell_type": "code",
      "source": [
        "df.info()"
      ],
      "metadata": {
        "colab": {
          "base_uri": "https://localhost:8080/"
        },
        "id": "kjrE1Z6iFwmd",
        "outputId": "b8fa15ff-fa4f-4f6f-a960-840faf9be598"
      },
      "execution_count": null,
      "outputs": [
        {
          "output_type": "stream",
          "name": "stdout",
          "text": [
            "<class 'pandas.core.frame.DataFrame'>\n",
            "RangeIndex: 7927 entries, 0 to 7926\n",
            "Data columns (total 16 columns):\n",
            " #   Column              Non-Null Count  Dtype  \n",
            "---  ------              --------------  -----  \n",
            " 0   job_ID              7927 non-null   int64  \n",
            " 1   job                 7894 non-null   object \n",
            " 2   location            7894 non-null   object \n",
            " 3   company_id          0 non-null      float64\n",
            " 4   company_name        7892 non-null   object \n",
            " 5   work_type           7736 non-null   object \n",
            " 6   full_time_remote    7848 non-null   object \n",
            " 7   no_of_employ        7603 non-null   object \n",
            " 8   no_of_application   7887 non-null   object \n",
            " 9   posted_day_ago      7920 non-null   object \n",
            " 10  alumni              4858 non-null   object \n",
            " 11  Hiring_person       5720 non-null   object \n",
            " 12  linkedin_followers  4814 non-null   object \n",
            " 13  hiring_person_link  5720 non-null   object \n",
            " 14  job_details         7881 non-null   object \n",
            " 15  Column1             0 non-null      float64\n",
            "dtypes: float64(2), int64(1), object(13)\n",
            "memory usage: 991.0+ KB\n"
          ]
        }
      ]
    },
    {
      "cell_type": "markdown",
      "source": [
        "# Missing Value\n",
        "Pertanyaan : Identifikasi kolom yang memiliki nilai yang hilang dan hitung\n",
        "persentase data yang hilang di setiap kolom.\n"
      ],
      "metadata": {
        "id": "1EmneZodGGJG"
      }
    },
    {
      "cell_type": "code",
      "source": [
        "# Menghitung jumlah nilai NaN (kosong) disetiap kolom\n",
        "df.isna().sum()"
      ],
      "metadata": {
        "colab": {
          "base_uri": "https://localhost:8080/",
          "height": 586
        },
        "id": "rr7v4qY5F2D5",
        "outputId": "888e8a4f-677f-40b1-ca17-c7fc970e7621"
      },
      "execution_count": null,
      "outputs": [
        {
          "output_type": "execute_result",
          "data": {
            "text/plain": [
              "job_ID                   0\n",
              "job                     33\n",
              "location                33\n",
              "company_id            7927\n",
              "company_name            35\n",
              "work_type              191\n",
              "full_time_remote        79\n",
              "no_of_employ           324\n",
              "no_of_application       40\n",
              "posted_day_ago           7\n",
              "alumni                3069\n",
              "Hiring_person         2207\n",
              "linkedin_followers    3113\n",
              "hiring_person_link    2207\n",
              "job_details             46\n",
              "Column1               7927\n",
              "dtype: int64"
            ],
            "text/html": [
              "<div>\n",
              "<style scoped>\n",
              "    .dataframe tbody tr th:only-of-type {\n",
              "        vertical-align: middle;\n",
              "    }\n",
              "\n",
              "    .dataframe tbody tr th {\n",
              "        vertical-align: top;\n",
              "    }\n",
              "\n",
              "    .dataframe thead th {\n",
              "        text-align: right;\n",
              "    }\n",
              "</style>\n",
              "<table border=\"1\" class=\"dataframe\">\n",
              "  <thead>\n",
              "    <tr style=\"text-align: right;\">\n",
              "      <th></th>\n",
              "      <th>0</th>\n",
              "    </tr>\n",
              "  </thead>\n",
              "  <tbody>\n",
              "    <tr>\n",
              "      <th>job_ID</th>\n",
              "      <td>0</td>\n",
              "    </tr>\n",
              "    <tr>\n",
              "      <th>job</th>\n",
              "      <td>33</td>\n",
              "    </tr>\n",
              "    <tr>\n",
              "      <th>location</th>\n",
              "      <td>33</td>\n",
              "    </tr>\n",
              "    <tr>\n",
              "      <th>company_id</th>\n",
              "      <td>7927</td>\n",
              "    </tr>\n",
              "    <tr>\n",
              "      <th>company_name</th>\n",
              "      <td>35</td>\n",
              "    </tr>\n",
              "    <tr>\n",
              "      <th>work_type</th>\n",
              "      <td>191</td>\n",
              "    </tr>\n",
              "    <tr>\n",
              "      <th>full_time_remote</th>\n",
              "      <td>79</td>\n",
              "    </tr>\n",
              "    <tr>\n",
              "      <th>no_of_employ</th>\n",
              "      <td>324</td>\n",
              "    </tr>\n",
              "    <tr>\n",
              "      <th>no_of_application</th>\n",
              "      <td>40</td>\n",
              "    </tr>\n",
              "    <tr>\n",
              "      <th>posted_day_ago</th>\n",
              "      <td>7</td>\n",
              "    </tr>\n",
              "    <tr>\n",
              "      <th>alumni</th>\n",
              "      <td>3069</td>\n",
              "    </tr>\n",
              "    <tr>\n",
              "      <th>Hiring_person</th>\n",
              "      <td>2207</td>\n",
              "    </tr>\n",
              "    <tr>\n",
              "      <th>linkedin_followers</th>\n",
              "      <td>3113</td>\n",
              "    </tr>\n",
              "    <tr>\n",
              "      <th>hiring_person_link</th>\n",
              "      <td>2207</td>\n",
              "    </tr>\n",
              "    <tr>\n",
              "      <th>job_details</th>\n",
              "      <td>46</td>\n",
              "    </tr>\n",
              "    <tr>\n",
              "      <th>Column1</th>\n",
              "      <td>7927</td>\n",
              "    </tr>\n",
              "  </tbody>\n",
              "</table>\n",
              "</div><br><label><b>dtype:</b> int64</label>"
            ]
          },
          "metadata": {},
          "execution_count": 5
        }
      ]
    },
    {
      "cell_type": "code",
      "source": [
        "# Menghitung persentase nilai Nan (Kosong) di tiap kolom\n",
        "df.isna().sum()/len(df)*100"
      ],
      "metadata": {
        "colab": {
          "base_uri": "https://localhost:8080/",
          "height": 586
        },
        "id": "Pa-l29i0G5an",
        "outputId": "5af9d43a-0f89-414c-ce88-8837aeb8d953"
      },
      "execution_count": null,
      "outputs": [
        {
          "output_type": "execute_result",
          "data": {
            "text/plain": [
              "job_ID                  0.000000\n",
              "job                     0.416299\n",
              "location                0.416299\n",
              "company_id            100.000000\n",
              "company_name            0.441529\n",
              "work_type               2.409487\n",
              "full_time_remote        0.996594\n",
              "no_of_employ            4.087297\n",
              "no_of_application       0.504605\n",
              "posted_day_ago          0.088306\n",
              "alumni                 38.715782\n",
              "Hiring_person          27.841554\n",
              "linkedin_followers     39.270846\n",
              "hiring_person_link     27.841554\n",
              "job_details             0.580295\n",
              "Column1               100.000000\n",
              "dtype: float64"
            ],
            "text/html": [
              "<div>\n",
              "<style scoped>\n",
              "    .dataframe tbody tr th:only-of-type {\n",
              "        vertical-align: middle;\n",
              "    }\n",
              "\n",
              "    .dataframe tbody tr th {\n",
              "        vertical-align: top;\n",
              "    }\n",
              "\n",
              "    .dataframe thead th {\n",
              "        text-align: right;\n",
              "    }\n",
              "</style>\n",
              "<table border=\"1\" class=\"dataframe\">\n",
              "  <thead>\n",
              "    <tr style=\"text-align: right;\">\n",
              "      <th></th>\n",
              "      <th>0</th>\n",
              "    </tr>\n",
              "  </thead>\n",
              "  <tbody>\n",
              "    <tr>\n",
              "      <th>job_ID</th>\n",
              "      <td>0.000000</td>\n",
              "    </tr>\n",
              "    <tr>\n",
              "      <th>job</th>\n",
              "      <td>0.416299</td>\n",
              "    </tr>\n",
              "    <tr>\n",
              "      <th>location</th>\n",
              "      <td>0.416299</td>\n",
              "    </tr>\n",
              "    <tr>\n",
              "      <th>company_id</th>\n",
              "      <td>100.000000</td>\n",
              "    </tr>\n",
              "    <tr>\n",
              "      <th>company_name</th>\n",
              "      <td>0.441529</td>\n",
              "    </tr>\n",
              "    <tr>\n",
              "      <th>work_type</th>\n",
              "      <td>2.409487</td>\n",
              "    </tr>\n",
              "    <tr>\n",
              "      <th>full_time_remote</th>\n",
              "      <td>0.996594</td>\n",
              "    </tr>\n",
              "    <tr>\n",
              "      <th>no_of_employ</th>\n",
              "      <td>4.087297</td>\n",
              "    </tr>\n",
              "    <tr>\n",
              "      <th>no_of_application</th>\n",
              "      <td>0.504605</td>\n",
              "    </tr>\n",
              "    <tr>\n",
              "      <th>posted_day_ago</th>\n",
              "      <td>0.088306</td>\n",
              "    </tr>\n",
              "    <tr>\n",
              "      <th>alumni</th>\n",
              "      <td>38.715782</td>\n",
              "    </tr>\n",
              "    <tr>\n",
              "      <th>Hiring_person</th>\n",
              "      <td>27.841554</td>\n",
              "    </tr>\n",
              "    <tr>\n",
              "      <th>linkedin_followers</th>\n",
              "      <td>39.270846</td>\n",
              "    </tr>\n",
              "    <tr>\n",
              "      <th>hiring_person_link</th>\n",
              "      <td>27.841554</td>\n",
              "    </tr>\n",
              "    <tr>\n",
              "      <th>job_details</th>\n",
              "      <td>0.580295</td>\n",
              "    </tr>\n",
              "    <tr>\n",
              "      <th>Column1</th>\n",
              "      <td>100.000000</td>\n",
              "    </tr>\n",
              "  </tbody>\n",
              "</table>\n",
              "</div><br><label><b>dtype:</b> float64</label>"
            ]
          },
          "metadata": {},
          "execution_count": 6
        }
      ]
    },
    {
      "cell_type": "code",
      "source": [
        "# Membuat tabel baru untuk menampilkan nilai missing value dan Persentasenya\n",
        "df_missing_value = pd.DataFrame({\n",
        "    'Missing Value' : df.isna().sum(),\n",
        "    'Percentage' : df.isna().sum()/len(df)*100\n",
        "})\n",
        "df_missing_value"
      ],
      "metadata": {
        "colab": {
          "base_uri": "https://localhost:8080/",
          "height": 551
        },
        "id": "gZrcZ9kvHMXu",
        "outputId": "952b2cdf-316d-494b-9529-f709d567e48e"
      },
      "execution_count": null,
      "outputs": [
        {
          "output_type": "execute_result",
          "data": {
            "text/plain": [
              "                    Missing Value  Percentage\n",
              "job_ID                          0    0.000000\n",
              "job                            33    0.416299\n",
              "location                       33    0.416299\n",
              "company_id                   7927  100.000000\n",
              "company_name                   35    0.441529\n",
              "work_type                     191    2.409487\n",
              "full_time_remote               79    0.996594\n",
              "no_of_employ                  324    4.087297\n",
              "no_of_application              40    0.504605\n",
              "posted_day_ago                  7    0.088306\n",
              "alumni                       3069   38.715782\n",
              "Hiring_person                2207   27.841554\n",
              "linkedin_followers           3113   39.270846\n",
              "hiring_person_link           2207   27.841554\n",
              "job_details                    46    0.580295\n",
              "Column1                      7927  100.000000"
            ],
            "text/html": [
              "\n",
              "  <div id=\"df-21bb2a47-e859-4379-b97f-305570ea2b7d\" class=\"colab-df-container\">\n",
              "    <div>\n",
              "<style scoped>\n",
              "    .dataframe tbody tr th:only-of-type {\n",
              "        vertical-align: middle;\n",
              "    }\n",
              "\n",
              "    .dataframe tbody tr th {\n",
              "        vertical-align: top;\n",
              "    }\n",
              "\n",
              "    .dataframe thead th {\n",
              "        text-align: right;\n",
              "    }\n",
              "</style>\n",
              "<table border=\"1\" class=\"dataframe\">\n",
              "  <thead>\n",
              "    <tr style=\"text-align: right;\">\n",
              "      <th></th>\n",
              "      <th>Missing Value</th>\n",
              "      <th>Percentage</th>\n",
              "    </tr>\n",
              "  </thead>\n",
              "  <tbody>\n",
              "    <tr>\n",
              "      <th>job_ID</th>\n",
              "      <td>0</td>\n",
              "      <td>0.000000</td>\n",
              "    </tr>\n",
              "    <tr>\n",
              "      <th>job</th>\n",
              "      <td>33</td>\n",
              "      <td>0.416299</td>\n",
              "    </tr>\n",
              "    <tr>\n",
              "      <th>location</th>\n",
              "      <td>33</td>\n",
              "      <td>0.416299</td>\n",
              "    </tr>\n",
              "    <tr>\n",
              "      <th>company_id</th>\n",
              "      <td>7927</td>\n",
              "      <td>100.000000</td>\n",
              "    </tr>\n",
              "    <tr>\n",
              "      <th>company_name</th>\n",
              "      <td>35</td>\n",
              "      <td>0.441529</td>\n",
              "    </tr>\n",
              "    <tr>\n",
              "      <th>work_type</th>\n",
              "      <td>191</td>\n",
              "      <td>2.409487</td>\n",
              "    </tr>\n",
              "    <tr>\n",
              "      <th>full_time_remote</th>\n",
              "      <td>79</td>\n",
              "      <td>0.996594</td>\n",
              "    </tr>\n",
              "    <tr>\n",
              "      <th>no_of_employ</th>\n",
              "      <td>324</td>\n",
              "      <td>4.087297</td>\n",
              "    </tr>\n",
              "    <tr>\n",
              "      <th>no_of_application</th>\n",
              "      <td>40</td>\n",
              "      <td>0.504605</td>\n",
              "    </tr>\n",
              "    <tr>\n",
              "      <th>posted_day_ago</th>\n",
              "      <td>7</td>\n",
              "      <td>0.088306</td>\n",
              "    </tr>\n",
              "    <tr>\n",
              "      <th>alumni</th>\n",
              "      <td>3069</td>\n",
              "      <td>38.715782</td>\n",
              "    </tr>\n",
              "    <tr>\n",
              "      <th>Hiring_person</th>\n",
              "      <td>2207</td>\n",
              "      <td>27.841554</td>\n",
              "    </tr>\n",
              "    <tr>\n",
              "      <th>linkedin_followers</th>\n",
              "      <td>3113</td>\n",
              "      <td>39.270846</td>\n",
              "    </tr>\n",
              "    <tr>\n",
              "      <th>hiring_person_link</th>\n",
              "      <td>2207</td>\n",
              "      <td>27.841554</td>\n",
              "    </tr>\n",
              "    <tr>\n",
              "      <th>job_details</th>\n",
              "      <td>46</td>\n",
              "      <td>0.580295</td>\n",
              "    </tr>\n",
              "    <tr>\n",
              "      <th>Column1</th>\n",
              "      <td>7927</td>\n",
              "      <td>100.000000</td>\n",
              "    </tr>\n",
              "  </tbody>\n",
              "</table>\n",
              "</div>\n",
              "    <div class=\"colab-df-buttons\">\n",
              "\n",
              "  <div class=\"colab-df-container\">\n",
              "    <button class=\"colab-df-convert\" onclick=\"convertToInteractive('df-21bb2a47-e859-4379-b97f-305570ea2b7d')\"\n",
              "            title=\"Convert this dataframe to an interactive table.\"\n",
              "            style=\"display:none;\">\n",
              "\n",
              "  <svg xmlns=\"http://www.w3.org/2000/svg\" height=\"24px\" viewBox=\"0 -960 960 960\">\n",
              "    <path d=\"M120-120v-720h720v720H120Zm60-500h600v-160H180v160Zm220 220h160v-160H400v160Zm0 220h160v-160H400v160ZM180-400h160v-160H180v160Zm440 0h160v-160H620v160ZM180-180h160v-160H180v160Zm440 0h160v-160H620v160Z\"/>\n",
              "  </svg>\n",
              "    </button>\n",
              "\n",
              "  <style>\n",
              "    .colab-df-container {\n",
              "      display:flex;\n",
              "      gap: 12px;\n",
              "    }\n",
              "\n",
              "    .colab-df-convert {\n",
              "      background-color: #E8F0FE;\n",
              "      border: none;\n",
              "      border-radius: 50%;\n",
              "      cursor: pointer;\n",
              "      display: none;\n",
              "      fill: #1967D2;\n",
              "      height: 32px;\n",
              "      padding: 0 0 0 0;\n",
              "      width: 32px;\n",
              "    }\n",
              "\n",
              "    .colab-df-convert:hover {\n",
              "      background-color: #E2EBFA;\n",
              "      box-shadow: 0px 1px 2px rgba(60, 64, 67, 0.3), 0px 1px 3px 1px rgba(60, 64, 67, 0.15);\n",
              "      fill: #174EA6;\n",
              "    }\n",
              "\n",
              "    .colab-df-buttons div {\n",
              "      margin-bottom: 4px;\n",
              "    }\n",
              "\n",
              "    [theme=dark] .colab-df-convert {\n",
              "      background-color: #3B4455;\n",
              "      fill: #D2E3FC;\n",
              "    }\n",
              "\n",
              "    [theme=dark] .colab-df-convert:hover {\n",
              "      background-color: #434B5C;\n",
              "      box-shadow: 0px 1px 3px 1px rgba(0, 0, 0, 0.15);\n",
              "      filter: drop-shadow(0px 1px 2px rgba(0, 0, 0, 0.3));\n",
              "      fill: #FFFFFF;\n",
              "    }\n",
              "  </style>\n",
              "\n",
              "    <script>\n",
              "      const buttonEl =\n",
              "        document.querySelector('#df-21bb2a47-e859-4379-b97f-305570ea2b7d button.colab-df-convert');\n",
              "      buttonEl.style.display =\n",
              "        google.colab.kernel.accessAllowed ? 'block' : 'none';\n",
              "\n",
              "      async function convertToInteractive(key) {\n",
              "        const element = document.querySelector('#df-21bb2a47-e859-4379-b97f-305570ea2b7d');\n",
              "        const dataTable =\n",
              "          await google.colab.kernel.invokeFunction('convertToInteractive',\n",
              "                                                    [key], {});\n",
              "        if (!dataTable) return;\n",
              "\n",
              "        const docLinkHtml = 'Like what you see? Visit the ' +\n",
              "          '<a target=\"_blank\" href=https://colab.research.google.com/notebooks/data_table.ipynb>data table notebook</a>'\n",
              "          + ' to learn more about interactive tables.';\n",
              "        element.innerHTML = '';\n",
              "        dataTable['output_type'] = 'display_data';\n",
              "        await google.colab.output.renderOutput(dataTable, element);\n",
              "        const docLink = document.createElement('div');\n",
              "        docLink.innerHTML = docLinkHtml;\n",
              "        element.appendChild(docLink);\n",
              "      }\n",
              "    </script>\n",
              "  </div>\n",
              "\n",
              "\n",
              "<div id=\"df-6f889c19-368a-491c-9c24-828308a70ef0\">\n",
              "  <button class=\"colab-df-quickchart\" onclick=\"quickchart('df-6f889c19-368a-491c-9c24-828308a70ef0')\"\n",
              "            title=\"Suggest charts\"\n",
              "            style=\"display:none;\">\n",
              "\n",
              "<svg xmlns=\"http://www.w3.org/2000/svg\" height=\"24px\"viewBox=\"0 0 24 24\"\n",
              "     width=\"24px\">\n",
              "    <g>\n",
              "        <path d=\"M19 3H5c-1.1 0-2 .9-2 2v14c0 1.1.9 2 2 2h14c1.1 0 2-.9 2-2V5c0-1.1-.9-2-2-2zM9 17H7v-7h2v7zm4 0h-2V7h2v10zm4 0h-2v-4h2v4z\"/>\n",
              "    </g>\n",
              "</svg>\n",
              "  </button>\n",
              "\n",
              "<style>\n",
              "  .colab-df-quickchart {\n",
              "      --bg-color: #E8F0FE;\n",
              "      --fill-color: #1967D2;\n",
              "      --hover-bg-color: #E2EBFA;\n",
              "      --hover-fill-color: #174EA6;\n",
              "      --disabled-fill-color: #AAA;\n",
              "      --disabled-bg-color: #DDD;\n",
              "  }\n",
              "\n",
              "  [theme=dark] .colab-df-quickchart {\n",
              "      --bg-color: #3B4455;\n",
              "      --fill-color: #D2E3FC;\n",
              "      --hover-bg-color: #434B5C;\n",
              "      --hover-fill-color: #FFFFFF;\n",
              "      --disabled-bg-color: #3B4455;\n",
              "      --disabled-fill-color: #666;\n",
              "  }\n",
              "\n",
              "  .colab-df-quickchart {\n",
              "    background-color: var(--bg-color);\n",
              "    border: none;\n",
              "    border-radius: 50%;\n",
              "    cursor: pointer;\n",
              "    display: none;\n",
              "    fill: var(--fill-color);\n",
              "    height: 32px;\n",
              "    padding: 0;\n",
              "    width: 32px;\n",
              "  }\n",
              "\n",
              "  .colab-df-quickchart:hover {\n",
              "    background-color: var(--hover-bg-color);\n",
              "    box-shadow: 0 1px 2px rgba(60, 64, 67, 0.3), 0 1px 3px 1px rgba(60, 64, 67, 0.15);\n",
              "    fill: var(--button-hover-fill-color);\n",
              "  }\n",
              "\n",
              "  .colab-df-quickchart-complete:disabled,\n",
              "  .colab-df-quickchart-complete:disabled:hover {\n",
              "    background-color: var(--disabled-bg-color);\n",
              "    fill: var(--disabled-fill-color);\n",
              "    box-shadow: none;\n",
              "  }\n",
              "\n",
              "  .colab-df-spinner {\n",
              "    border: 2px solid var(--fill-color);\n",
              "    border-color: transparent;\n",
              "    border-bottom-color: var(--fill-color);\n",
              "    animation:\n",
              "      spin 1s steps(1) infinite;\n",
              "  }\n",
              "\n",
              "  @keyframes spin {\n",
              "    0% {\n",
              "      border-color: transparent;\n",
              "      border-bottom-color: var(--fill-color);\n",
              "      border-left-color: var(--fill-color);\n",
              "    }\n",
              "    20% {\n",
              "      border-color: transparent;\n",
              "      border-left-color: var(--fill-color);\n",
              "      border-top-color: var(--fill-color);\n",
              "    }\n",
              "    30% {\n",
              "      border-color: transparent;\n",
              "      border-left-color: var(--fill-color);\n",
              "      border-top-color: var(--fill-color);\n",
              "      border-right-color: var(--fill-color);\n",
              "    }\n",
              "    40% {\n",
              "      border-color: transparent;\n",
              "      border-right-color: var(--fill-color);\n",
              "      border-top-color: var(--fill-color);\n",
              "    }\n",
              "    60% {\n",
              "      border-color: transparent;\n",
              "      border-right-color: var(--fill-color);\n",
              "    }\n",
              "    80% {\n",
              "      border-color: transparent;\n",
              "      border-right-color: var(--fill-color);\n",
              "      border-bottom-color: var(--fill-color);\n",
              "    }\n",
              "    90% {\n",
              "      border-color: transparent;\n",
              "      border-bottom-color: var(--fill-color);\n",
              "    }\n",
              "  }\n",
              "</style>\n",
              "\n",
              "  <script>\n",
              "    async function quickchart(key) {\n",
              "      const quickchartButtonEl =\n",
              "        document.querySelector('#' + key + ' button');\n",
              "      quickchartButtonEl.disabled = true;  // To prevent multiple clicks.\n",
              "      quickchartButtonEl.classList.add('colab-df-spinner');\n",
              "      try {\n",
              "        const charts = await google.colab.kernel.invokeFunction(\n",
              "            'suggestCharts', [key], {});\n",
              "      } catch (error) {\n",
              "        console.error('Error during call to suggestCharts:', error);\n",
              "      }\n",
              "      quickchartButtonEl.classList.remove('colab-df-spinner');\n",
              "      quickchartButtonEl.classList.add('colab-df-quickchart-complete');\n",
              "    }\n",
              "    (() => {\n",
              "      let quickchartButtonEl =\n",
              "        document.querySelector('#df-6f889c19-368a-491c-9c24-828308a70ef0 button');\n",
              "      quickchartButtonEl.style.display =\n",
              "        google.colab.kernel.accessAllowed ? 'block' : 'none';\n",
              "    })();\n",
              "  </script>\n",
              "</div>\n",
              "\n",
              "  <div id=\"id_6bdfc8a9-4aa4-4875-a6a9-1ba36b667b85\">\n",
              "    <style>\n",
              "      .colab-df-generate {\n",
              "        background-color: #E8F0FE;\n",
              "        border: none;\n",
              "        border-radius: 50%;\n",
              "        cursor: pointer;\n",
              "        display: none;\n",
              "        fill: #1967D2;\n",
              "        height: 32px;\n",
              "        padding: 0 0 0 0;\n",
              "        width: 32px;\n",
              "      }\n",
              "\n",
              "      .colab-df-generate:hover {\n",
              "        background-color: #E2EBFA;\n",
              "        box-shadow: 0px 1px 2px rgba(60, 64, 67, 0.3), 0px 1px 3px 1px rgba(60, 64, 67, 0.15);\n",
              "        fill: #174EA6;\n",
              "      }\n",
              "\n",
              "      [theme=dark] .colab-df-generate {\n",
              "        background-color: #3B4455;\n",
              "        fill: #D2E3FC;\n",
              "      }\n",
              "\n",
              "      [theme=dark] .colab-df-generate:hover {\n",
              "        background-color: #434B5C;\n",
              "        box-shadow: 0px 1px 3px 1px rgba(0, 0, 0, 0.15);\n",
              "        filter: drop-shadow(0px 1px 2px rgba(0, 0, 0, 0.3));\n",
              "        fill: #FFFFFF;\n",
              "      }\n",
              "    </style>\n",
              "    <button class=\"colab-df-generate\" onclick=\"generateWithVariable('df_missing_value')\"\n",
              "            title=\"Generate code using this dataframe.\"\n",
              "            style=\"display:none;\">\n",
              "\n",
              "  <svg xmlns=\"http://www.w3.org/2000/svg\" height=\"24px\"viewBox=\"0 0 24 24\"\n",
              "       width=\"24px\">\n",
              "    <path d=\"M7,19H8.4L18.45,9,17,7.55,7,17.6ZM5,21V16.75L18.45,3.32a2,2,0,0,1,2.83,0l1.4,1.43a1.91,1.91,0,0,1,.58,1.4,1.91,1.91,0,0,1-.58,1.4L9.25,21ZM18.45,9,17,7.55Zm-12,3A5.31,5.31,0,0,0,4.9,8.1,5.31,5.31,0,0,0,1,6.5,5.31,5.31,0,0,0,4.9,4.9,5.31,5.31,0,0,0,6.5,1,5.31,5.31,0,0,0,8.1,4.9,5.31,5.31,0,0,0,12,6.5,5.46,5.46,0,0,0,6.5,12Z\"/>\n",
              "  </svg>\n",
              "    </button>\n",
              "    <script>\n",
              "      (() => {\n",
              "      const buttonEl =\n",
              "        document.querySelector('#id_6bdfc8a9-4aa4-4875-a6a9-1ba36b667b85 button.colab-df-generate');\n",
              "      buttonEl.style.display =\n",
              "        google.colab.kernel.accessAllowed ? 'block' : 'none';\n",
              "\n",
              "      buttonEl.onclick = () => {\n",
              "        google.colab.notebook.generateWithVariable('df_missing_value');\n",
              "      }\n",
              "      })();\n",
              "    </script>\n",
              "  </div>\n",
              "\n",
              "    </div>\n",
              "  </div>\n"
            ],
            "application/vnd.google.colaboratory.intrinsic+json": {
              "type": "dataframe",
              "variable_name": "df_missing_value",
              "summary": "{\n  \"name\": \"df_missing_value\",\n  \"rows\": 16,\n  \"fields\": [\n    {\n      \"column\": \"Missing Value\",\n      \"properties\": {\n        \"dtype\": \"number\",\n        \"std\": 2687,\n        \"min\": 0,\n        \"max\": 7927,\n        \"num_unique_values\": 13,\n        \"samples\": [\n          3113,\n          3069,\n          0\n        ],\n        \"semantic_type\": \"\",\n        \"description\": \"\"\n      }\n    },\n    {\n      \"column\": \"Percentage\",\n      \"properties\": {\n        \"dtype\": \"number\",\n        \"std\": 33.898674809330416,\n        \"min\": 0.0,\n        \"max\": 100.0,\n        \"num_unique_values\": 13,\n        \"samples\": [\n          39.270846474075945,\n          38.715781506244475,\n          0.0\n        ],\n        \"semantic_type\": \"\",\n        \"description\": \"\"\n      }\n    }\n  ]\n}"
            }
          },
          "metadata": {},
          "execution_count": 7
        }
      ]
    },
    {
      "cell_type": "markdown",
      "source": [
        "* Kolom 'company_id' dan 'column1' memiliki persentase 100% (Tidak ada data) sehingga bisa di drop dari dataset"
      ],
      "metadata": {
        "id": "EdlJSPo3I9Vq"
      }
    },
    {
      "cell_type": "code",
      "source": [
        "# Drop data\n",
        "df.drop(['company_id', 'Column1'], axis=1, inplace=True)"
      ],
      "metadata": {
        "id": "McYdu1pzI3Lz"
      },
      "execution_count": null,
      "outputs": []
    },
    {
      "cell_type": "markdown",
      "source": [
        "# Data Type Correction\n",
        "Pertanyaan: Kolom `no_of_employ` memiliki data numerik yang disimpan\n",
        "sebagai string. Ubah kolom ini menjad itipe integer dan tangani nilai non-numerik\n",
        "dengan tepat.\n",
        "Note : Kamu perlu membuat kolom baru minimal employ dan maksimal employ,\n",
        "jika datanya tidak berbentuk range maka masuk ke kolom maksimal employ\n"
      ],
      "metadata": {
        "id": "tDYc_SOjJcEo"
      }
    },
    {
      "cell_type": "code",
      "source": [
        "# Membersihkan tanda koma dalam data\n",
        "df['no_of_employ'] = df['no_of_employ'].str.replace(',', '')"
      ],
      "metadata": {
        "id": "5mds-coAKMJJ"
      },
      "execution_count": null,
      "outputs": []
    },
    {
      "cell_type": "code",
      "source": [
        "# Membersihkan tanda + setelah angka\n",
        "df['no_of_employ'] = df['no_of_employ'].str.replace('+', '')"
      ],
      "metadata": {
        "id": "qlf8GuLW_70K"
      },
      "execution_count": null,
      "outputs": []
    },
    {
      "cell_type": "code",
      "source": [
        "# Memisahkan angka dengan karakter\n",
        "df['no_of_employ'] = df['no_of_employ'].str.split('employees')"
      ],
      "metadata": {
        "id": "4N_rWa3PCk7J"
      },
      "execution_count": null,
      "outputs": []
    },
    {
      "cell_type": "code",
      "source": [
        "# Menghapus karakter\n",
        "df['no_of_employ'] = df['no_of_employ'].str[0]"
      ],
      "metadata": {
        "id": "fzzLZpWZCy1H"
      },
      "execution_count": null,
      "outputs": []
    },
    {
      "cell_type": "code",
      "source": [
        "# Mengubah nilai kosong dengan 0\n",
        "df['no_of_employ'] = df['no_of_employ'].fillna(0)"
      ],
      "metadata": {
        "id": "C0-3XVYCDt4j"
      },
      "execution_count": null,
      "outputs": []
    },
    {
      "cell_type": "code",
      "source": [
        "df['no_of_employ'].unique()"
      ],
      "metadata": {
        "colab": {
          "base_uri": "https://localhost:8080/"
        },
        "id": "8egUTdDxD-aF",
        "outputId": "3d44ffa7-f065-4d34-8e34-69497073f4be"
      },
      "execution_count": null,
      "outputs": [
        {
          "output_type": "execute_result",
          "data": {
            "text/plain": [
              "array(['1001-5000 ', '1-10 ', '10001 ', '51-200 ', '201-500 ', 0,\n",
              "       '11-50 ', '501-1000 ', '5001-10000 '], dtype=object)"
            ]
          },
          "metadata": {},
          "execution_count": 14
        }
      ]
    },
    {
      "cell_type": "code",
      "source": [
        "df['no_of_employ'].head(5)"
      ],
      "metadata": {
        "colab": {
          "base_uri": "https://localhost:8080/",
          "height": 241
        },
        "id": "mkZvD6BDVZkP",
        "outputId": "5698d1a5-b0d3-48f2-85d7-fcf53adc549d"
      },
      "execution_count": null,
      "outputs": [
        {
          "output_type": "execute_result",
          "data": {
            "text/plain": [
              "0    1001-5000 \n",
              "1    1001-5000 \n",
              "2    1001-5000 \n",
              "3         1-10 \n",
              "4         1-10 \n",
              "Name: no_of_employ, dtype: object"
            ],
            "text/html": [
              "<div>\n",
              "<style scoped>\n",
              "    .dataframe tbody tr th:only-of-type {\n",
              "        vertical-align: middle;\n",
              "    }\n",
              "\n",
              "    .dataframe tbody tr th {\n",
              "        vertical-align: top;\n",
              "    }\n",
              "\n",
              "    .dataframe thead th {\n",
              "        text-align: right;\n",
              "    }\n",
              "</style>\n",
              "<table border=\"1\" class=\"dataframe\">\n",
              "  <thead>\n",
              "    <tr style=\"text-align: right;\">\n",
              "      <th></th>\n",
              "      <th>no_of_employ</th>\n",
              "    </tr>\n",
              "  </thead>\n",
              "  <tbody>\n",
              "    <tr>\n",
              "      <th>0</th>\n",
              "      <td>1001-5000</td>\n",
              "    </tr>\n",
              "    <tr>\n",
              "      <th>1</th>\n",
              "      <td>1001-5000</td>\n",
              "    </tr>\n",
              "    <tr>\n",
              "      <th>2</th>\n",
              "      <td>1001-5000</td>\n",
              "    </tr>\n",
              "    <tr>\n",
              "      <th>3</th>\n",
              "      <td>1-10</td>\n",
              "    </tr>\n",
              "    <tr>\n",
              "      <th>4</th>\n",
              "      <td>1-10</td>\n",
              "    </tr>\n",
              "  </tbody>\n",
              "</table>\n",
              "</div><br><label><b>dtype:</b> object</label>"
            ]
          },
          "metadata": {},
          "execution_count": 15
        }
      ]
    },
    {
      "cell_type": "code",
      "source": [
        "df.info()"
      ],
      "metadata": {
        "colab": {
          "base_uri": "https://localhost:8080/"
        },
        "id": "VHMWN7QBHIKG",
        "outputId": "57e717fa-c1cb-4b4d-f815-f2482d6634f2"
      },
      "execution_count": null,
      "outputs": [
        {
          "output_type": "stream",
          "name": "stdout",
          "text": [
            "<class 'pandas.core.frame.DataFrame'>\n",
            "RangeIndex: 7927 entries, 0 to 7926\n",
            "Data columns (total 14 columns):\n",
            " #   Column              Non-Null Count  Dtype \n",
            "---  ------              --------------  ----- \n",
            " 0   job_ID              7927 non-null   int64 \n",
            " 1   job                 7894 non-null   object\n",
            " 2   location            7894 non-null   object\n",
            " 3   company_name        7892 non-null   object\n",
            " 4   work_type           7736 non-null   object\n",
            " 5   full_time_remote    7848 non-null   object\n",
            " 6   no_of_employ        7927 non-null   object\n",
            " 7   no_of_application   7887 non-null   object\n",
            " 8   posted_day_ago      7920 non-null   object\n",
            " 9   alumni              4858 non-null   object\n",
            " 10  Hiring_person       5720 non-null   object\n",
            " 11  linkedin_followers  4814 non-null   object\n",
            " 12  hiring_person_link  5720 non-null   object\n",
            " 13  job_details         7881 non-null   object\n",
            "dtypes: int64(1), object(13)\n",
            "memory usage: 867.1+ KB\n"
          ]
        }
      ]
    },
    {
      "cell_type": "code",
      "source": [
        "df['no_of_employ'].head(2)"
      ],
      "metadata": {
        "colab": {
          "base_uri": "https://localhost:8080/",
          "height": 147
        },
        "id": "SNU732aWP_kX",
        "outputId": "5014a5bc-e2c4-4b86-c899-8e66d53b4a7a"
      },
      "execution_count": null,
      "outputs": [
        {
          "output_type": "execute_result",
          "data": {
            "text/plain": [
              "0    1001-5000 \n",
              "1    1001-5000 \n",
              "Name: no_of_employ, dtype: object"
            ],
            "text/html": [
              "<div>\n",
              "<style scoped>\n",
              "    .dataframe tbody tr th:only-of-type {\n",
              "        vertical-align: middle;\n",
              "    }\n",
              "\n",
              "    .dataframe tbody tr th {\n",
              "        vertical-align: top;\n",
              "    }\n",
              "\n",
              "    .dataframe thead th {\n",
              "        text-align: right;\n",
              "    }\n",
              "</style>\n",
              "<table border=\"1\" class=\"dataframe\">\n",
              "  <thead>\n",
              "    <tr style=\"text-align: right;\">\n",
              "      <th></th>\n",
              "      <th>no_of_employ</th>\n",
              "    </tr>\n",
              "  </thead>\n",
              "  <tbody>\n",
              "    <tr>\n",
              "      <th>0</th>\n",
              "      <td>1001-5000</td>\n",
              "    </tr>\n",
              "    <tr>\n",
              "      <th>1</th>\n",
              "      <td>1001-5000</td>\n",
              "    </tr>\n",
              "  </tbody>\n",
              "</table>\n",
              "</div><br><label><b>dtype:</b> object</label>"
            ]
          },
          "metadata": {},
          "execution_count": 17
        }
      ]
    },
    {
      "cell_type": "code",
      "source": [
        "# Membuat kolom min_employ dan max_employ serta mengisi nilainya dengan ketentuan : data berbentuk range akan dipisahkan dengan \"-\" untuk pengelompokkan nilai min_employ  dan max_employ nya dan apabila datanya bukan berbentuk range maka akan masuk ke max_employ\n",
        "\n",
        "df['min_employ'] = df['no_of_employ'].apply(lambda x: '0' if '-' not in str(x) else x.split('-')[0].strip())\n",
        "df['max_employ'] = df['no_of_employ'].apply(lambda x: x if '-' not in str(x) else x.split('-')[-1].strip())"
      ],
      "metadata": {
        "id": "Wix5y9cKEadM"
      },
      "execution_count": null,
      "outputs": []
    },
    {
      "cell_type": "code",
      "source": [
        "df['min_employ'].unique()"
      ],
      "metadata": {
        "id": "bjy3HYAiGvK-",
        "colab": {
          "base_uri": "https://localhost:8080/"
        },
        "outputId": "00f9800d-aace-4211-b59e-757ffdfc3387"
      },
      "execution_count": null,
      "outputs": [
        {
          "output_type": "execute_result",
          "data": {
            "text/plain": [
              "array(['1001', '1', '0', '51', '201', '11', '501', '5001'], dtype=object)"
            ]
          },
          "metadata": {},
          "execution_count": 19
        }
      ]
    },
    {
      "cell_type": "code",
      "source": [
        "df['max_employ'].unique()"
      ],
      "metadata": {
        "colab": {
          "base_uri": "https://localhost:8080/"
        },
        "id": "8QzcuyDqFkUn",
        "outputId": "b7399b89-96e9-4a13-9347-9f4a67e72d6f"
      },
      "execution_count": null,
      "outputs": [
        {
          "output_type": "execute_result",
          "data": {
            "text/plain": [
              "array(['5000', '10', '10001 ', '200', '500', 0, '50', '1000', '10000'],\n",
              "      dtype=object)"
            ]
          },
          "metadata": {},
          "execution_count": 20
        }
      ]
    },
    {
      "cell_type": "code",
      "source": [
        "# Mengubah tipe datanya ke numerik\n",
        "df['min_employ'] = pd.to_numeric(df['min_employ'])\n",
        "df['max_employ'] = pd.to_numeric(df['max_employ'])"
      ],
      "metadata": {
        "id": "u8ZfCFe6TY-R"
      },
      "execution_count": null,
      "outputs": []
    },
    {
      "cell_type": "code",
      "source": [
        "df.info()"
      ],
      "metadata": {
        "colab": {
          "base_uri": "https://localhost:8080/"
        },
        "id": "Q5IfwWhgTeoi",
        "outputId": "3c33d02b-3d89-4d76-edb3-0b9a25948014"
      },
      "execution_count": null,
      "outputs": [
        {
          "output_type": "stream",
          "name": "stdout",
          "text": [
            "<class 'pandas.core.frame.DataFrame'>\n",
            "RangeIndex: 7927 entries, 0 to 7926\n",
            "Data columns (total 16 columns):\n",
            " #   Column              Non-Null Count  Dtype \n",
            "---  ------              --------------  ----- \n",
            " 0   job_ID              7927 non-null   int64 \n",
            " 1   job                 7894 non-null   object\n",
            " 2   location            7894 non-null   object\n",
            " 3   company_name        7892 non-null   object\n",
            " 4   work_type           7736 non-null   object\n",
            " 5   full_time_remote    7848 non-null   object\n",
            " 6   no_of_employ        7927 non-null   object\n",
            " 7   no_of_application   7887 non-null   object\n",
            " 8   posted_day_ago      7920 non-null   object\n",
            " 9   alumni              4858 non-null   object\n",
            " 10  Hiring_person       5720 non-null   object\n",
            " 11  linkedin_followers  4814 non-null   object\n",
            " 12  hiring_person_link  5720 non-null   object\n",
            " 13  job_details         7881 non-null   object\n",
            " 14  min_employ          7927 non-null   int64 \n",
            " 15  max_employ          7927 non-null   int64 \n",
            "dtypes: int64(3), object(13)\n",
            "memory usage: 991.0+ KB\n"
          ]
        }
      ]
    },
    {
      "cell_type": "markdown",
      "source": [
        "# Duplicate Data Detection and Removal\n",
        "Pertanyaan: Deteksi dan hapus posting pekerjaan yang duplikat berdasarkan\n",
        "`job_ID` Pastikan dataset yang dihasilkan hanya berisi posting pekerjaan yang\n",
        "unik.\n"
      ],
      "metadata": {
        "id": "QxW91uduJ0Jd"
      }
    },
    {
      "cell_type": "code",
      "source": [
        "# Menghitung jumlah data duplicate berdasarkan job_id\n",
        "df.duplicated(subset='job_ID').sum()"
      ],
      "metadata": {
        "colab": {
          "base_uri": "https://localhost:8080/"
        },
        "id": "WgPBzOTLS7Gv",
        "outputId": "d3250442-6e86-4627-f684-dd82a93f1a9b"
      },
      "execution_count": null,
      "outputs": [
        {
          "output_type": "execute_result",
          "data": {
            "text/plain": [
              "2084"
            ]
          },
          "metadata": {},
          "execution_count": 23
        }
      ]
    },
    {
      "cell_type": "code",
      "source": [
        "# Menghapus duplicate data dengan perintah drop_duplicates\n",
        "df.drop_duplicates(subset='job_ID', inplace=True)"
      ],
      "metadata": {
        "id": "7NOZV9ABSl6b"
      },
      "execution_count": null,
      "outputs": []
    },
    {
      "cell_type": "code",
      "source": [
        "df.info()"
      ],
      "metadata": {
        "colab": {
          "base_uri": "https://localhost:8080/"
        },
        "id": "rJv9imZzSlt9",
        "outputId": "da66f129-c0ae-40d9-c49e-92814c622b4e"
      },
      "execution_count": null,
      "outputs": [
        {
          "output_type": "stream",
          "name": "stdout",
          "text": [
            "<class 'pandas.core.frame.DataFrame'>\n",
            "Index: 5843 entries, 0 to 7926\n",
            "Data columns (total 16 columns):\n",
            " #   Column              Non-Null Count  Dtype \n",
            "---  ------              --------------  ----- \n",
            " 0   job_ID              5843 non-null   int64 \n",
            " 1   job                 5816 non-null   object\n",
            " 2   location            5816 non-null   object\n",
            " 3   company_name        5815 non-null   object\n",
            " 4   work_type           5711 non-null   object\n",
            " 5   full_time_remote    5776 non-null   object\n",
            " 6   no_of_employ        5843 non-null   object\n",
            " 7   no_of_application   5810 non-null   object\n",
            " 8   posted_day_ago      5837 non-null   object\n",
            " 9   alumni              3586 non-null   object\n",
            " 10  Hiring_person       4157 non-null   object\n",
            " 11  linkedin_followers  3530 non-null   object\n",
            " 12  hiring_person_link  4157 non-null   object\n",
            " 13  job_details         5805 non-null   object\n",
            " 14  min_employ          5843 non-null   int64 \n",
            " 15  max_employ          5843 non-null   int64 \n",
            "dtypes: int64(3), object(13)\n",
            "memory usage: 776.0+ KB\n"
          ]
        }
      ]
    },
    {
      "cell_type": "markdown",
      "source": [
        "# Standarisasi Data\n",
        "Pertanyaan: Standarisasi kolom `location` dengan memastikan semua nama kota\n",
        "ditulis dengan huruf besar dan konsisten (misalnya,\"New York\",\"San Francisco\").\n"
      ],
      "metadata": {
        "id": "Tc2OQ_v1J25G"
      }
    },
    {
      "cell_type": "code",
      "source": [
        "# Cek jumlah nama kota yang diawali huruf kapital\n",
        "df['location'].str.istitle().sum()"
      ],
      "metadata": {
        "colab": {
          "base_uri": "https://localhost:8080/"
        },
        "id": "5JhUnDYnTyS1",
        "outputId": "1f5f7f51-d28b-4c8e-f052-5661276bb59f"
      },
      "execution_count": null,
      "outputs": [
        {
          "output_type": "execute_result",
          "data": {
            "text/plain": [
              "5792"
            ]
          },
          "metadata": {},
          "execution_count": 26
        }
      ]
    },
    {
      "cell_type": "code",
      "source": [
        "# Menampilkan kolom yang tidak sesuai dengan syarat\n",
        "df[df['location'].str.istitle()==False]"
      ],
      "metadata": {
        "colab": {
          "base_uri": "https://localhost:8080/",
          "height": 1000
        },
        "id": "B8D_JHFGXCRA",
        "outputId": "bbe127e3-4a86-4b3b-f797-7afd7f7fe6bc"
      },
      "execution_count": null,
      "outputs": [
        {
          "output_type": "execute_result",
          "data": {
            "text/plain": [
              "          job_ID                                                job  \\\n",
              "4     3473311511                                       Data Analyst   \n",
              "212   3472830898                               Mern stack developer   \n",
              "913   3472837170                                      IIB Developer   \n",
              "1092  3471876627          Python Web scraping | Crawling - Id: 7ec3   \n",
              "1165  3467373716                                     Game Developer   \n",
              "1606  3473365792                               CI/Laravel Developer   \n",
              "1678  3472537497                                   NodeJs Developer   \n",
              "2136  3469578662                                   Golang developer   \n",
              "2157  3458548152                                 Data Visualization   \n",
              "2419  3466109642                               Full Stack Developer   \n",
              "2683  3468306424                     Quant Developer (Data Science)   \n",
              "3017  3476188459                                Lead Data Scientist   \n",
              "3134  3469074162                                     Data Scientist   \n",
              "3185  3474478632                          Lead Development Engineer   \n",
              "4587  3469503429                                Azure Data Engineer   \n",
              "5007  3474489243  Assistant Professor-Digital Marketing/Social M...   \n",
              "5165  3476447935                                      Sales Officer   \n",
              "5389  3476912710                             Human Resources Intern   \n",
              "5921  3477681548                          Security_Analyst_GRC (PD)   \n",
              "6272  3470505574                                Quantitative Trader   \n",
              "6340  3470569238    Sales Consultant | Bangalore | Freshers | Grads   \n",
              "6770  3469004572                                Full Stack Engineer   \n",
              "6814  3474486314                                   Business Analyst   \n",
              "7602  3271066191                             React Native Developer   \n",
              "\n",
              "                                           location  \\\n",
              "4                    Mohali district, Punjab, India   \n",
              "212                  Mohali district, Punjab, India   \n",
              "913                 Bangalore Urban district, India   \n",
              "1092                 Mohali district, Punjab, India   \n",
              "1165                                           APAC   \n",
              "1606  Kolkata metropolitan area, West Bengal, India   \n",
              "1678                 Mohali district, Punjab, India   \n",
              "2136                 Mohali district, Punjab, India   \n",
              "2157                Bangalore Urban district, India   \n",
              "2419  Kolkata metropolitan area, West Bengal, India   \n",
              "2683                                           APAC   \n",
              "3017  Kolkata metropolitan area, West Bengal, India   \n",
              "3134                 Mohali district, Punjab, India   \n",
              "3185                Bangalore Urban district, India   \n",
              "4587  Kolkata metropolitan area, West Bengal, India   \n",
              "5007                 Mohali district, Punjab, India   \n",
              "5165                Golaghat district, Assam, India   \n",
              "5389  Kolkata metropolitan area, West Bengal, India   \n",
              "5921                 Mohali district, Punjab, India   \n",
              "6272                                           APAC   \n",
              "6340                Bangalore Urban district, India   \n",
              "6770                 Mohali district, Punjab, India   \n",
              "6814  Kolkata metropolitan area, West Bengal, India   \n",
              "7602                 Mohali district, Punjab, India   \n",
              "\n",
              "                                        company_name work_type  \\\n",
              "4                           Timeline Freight Brokers   On-site   \n",
              "212   Opportunity One Step Solutions Private Limited   On-site   \n",
              "913                                      The IT Mind   On-site   \n",
              "1092                                          Gmware   On-site   \n",
              "1165                                           Hyqoo    Remote   \n",
              "1606                     Aranax Technologies Pvt Ltd   On-site   \n",
              "1678                            Henceforth Solutions   On-site   \n",
              "2136                                    Plum Careers       NaN   \n",
              "2157                       Tata Consultancy Services    Hybrid   \n",
              "2419                            SkillTechLab Pvt Ltd   On-site   \n",
              "2683                                        Execuzen    Remote   \n",
              "3017                   Tanishi Consultants Pvt. Ltd.   On-site   \n",
              "3134                                       TIGI HR ®   On-site   \n",
              "3185                                Info Origin Inc.   On-site   \n",
              "4587                             TuTeck Technologies   On-site   \n",
              "5007                                Amity University   On-site   \n",
              "5165                       K&L BEVERAGE COMPANY, LLC   On-site   \n",
              "5389                                     Lead Height   On-site   \n",
              "5921                          Mobile Programming LLC   On-site   \n",
              "6272                                          Storm2    Remote   \n",
              "6340                                    Square Yards   On-site   \n",
              "6770                               White Force Group   On-site   \n",
              "6814                                SKILL ELIXIREDGE   On-site   \n",
              "7602                        Young Createch Pvt. Ltd.   On-site   \n",
              "\n",
              "                  full_time_remote no_of_employ no_of_application  \\\n",
              "4                        Full-time        1-10                  8   \n",
              "212                      Full-time      51-200                 11   \n",
              "913                      Full-time       11-50                 11   \n",
              "1092                     Full-time      51-200                 19   \n",
              "1165          Contract · Associate       11-50              hours   \n",
              "1606                     Full-time        1-10              hours   \n",
              "1678                     Full-time      51-200              hours   \n",
              "2136                     Full-time        1-10                  2   \n",
              "2157  Full-time · Mid-Senior level       10001                200   \n",
              "2419                     Full-time      51-200                day   \n",
              "2683                     Full-time      51-200               days   \n",
              "3017                     Full-time      51-200                 24   \n",
              "3134         Full-time · Associate      51-200              hours   \n",
              "3185                     Full-time      51-200              hours   \n",
              "4587                     Full-time       11-50               days   \n",
              "5007                      Contract  5001-10000              hours   \n",
              "5165                     Full-time        1-10              hours   \n",
              "5389                     Full-time     201-500                  6   \n",
              "5921                     Full-time   1001-5000            minutes   \n",
              "6272  Full-time · Mid-Senior level     201-500                 49   \n",
              "6340                     Full-time   1001-5000                  1   \n",
              "6770  Full-time · Mid-Senior level     201-500            seconds   \n",
              "6814                     Full-time    501-1000                  5   \n",
              "7602                     Full-time        1-10                 30   \n",
              "\n",
              "     posted_day_ago                 alumni           Hiring_person  \\\n",
              "4        26 minutes       1 company alumni  Manisha (Gisele Smith)   \n",
              "212         5 hours                    NaN           Apurva Tiwari   \n",
              "913         9 hours                    NaN          Shrutika Khare   \n",
              "1092       17 hours                    NaN           Prerna Mittal   \n",
              "1165       13 hours       1 company alumni               Nida Noor   \n",
              "1606        4 hours                    NaN              Kousik Pan   \n",
              "1678       16 hours                    NaN            Simran Walia   \n",
              "2136          1 day                    NaN               Aakriti G   \n",
              "2157         6 days  10,080 company alumni                     NaN   \n",
              "2419          1 day                    NaN          skill tech lab   \n",
              "2683         2 days                    NaN        Lingyi 令一 Kong 孔   \n",
              "3017        6 hours                    NaN       Gunjan Khandelwal   \n",
              "3134        5 hours       1 company alumni            Snehal Patel   \n",
              "3185       14 hours                    NaN          Shumaila Ahsan   \n",
              "4587         2 days                    NaN        Jagriti Banerjee   \n",
              "5007       12 hours                    NaN             Shubh Sahoo   \n",
              "5165        9 hours                    NaN         Mahmad Sher Ali   \n",
              "5389       13 hours                    NaN    Debika Bhattacharjee   \n",
              "5921     16 minutes       2 company alumni            Ankit Sharma   \n",
              "6272        6 hours                    NaN              Chelsea P.   \n",
              "6340         1 hour                    NaN           Sonali Sonkar   \n",
              "6770     34 seconds                    NaN                     NaN   \n",
              "6814         1 hour                    NaN              Isha Gupta   \n",
              "7602         5 days                    NaN            Amol Chhabra   \n",
              "\n",
              "        linkedin_followers                                 hiring_person_link  \\\n",
              "4                      NaN     https://www.linkedin.com/in/manisharathore0029   \n",
              "212       10,712 followers  https://www.linkedin.com/in/apurva-tiwari-6a14...   \n",
              "913                    NaN  https://www.linkedin.com/in/shrutika-khare-069...   \n",
              "1092      28,101 followers  https://www.linkedin.com/in/prerna-mittal-040a...   \n",
              "1165      67,526 followers             https://www.linkedin.com/in/nidanoor12   \n",
              "1606         108 followers   https://www.linkedin.com/in/kousik-pan-395a21116   \n",
              "1678                   NaN  https://www.linkedin.com/in/simran-walia-244b4...   \n",
              "2136          94 followers    https://www.linkedin.com/in/aakriti-g-746872205   \n",
              "2157  11,920,290 followers                                                NaN   \n",
              "2419         143 followers  https://www.linkedin.com/in/skill-tech-lab-a94...   \n",
              "2683       4,529 followers  https://www.linkedin.com/in/lingyi-%E4%BB%A4%E...   \n",
              "3017       7,749 followers  https://www.linkedin.com/in/gunjan-khandelwal-...   \n",
              "3134                   NaN  https://www.linkedin.com/in/snehal-patel-68996...   \n",
              "3185      58,135 followers  https://www.linkedin.com/in/shumaila-ahsan-a34...   \n",
              "4587                   NaN  https://www.linkedin.com/in/jagriti-banerjee-3...   \n",
              "5007     275,657 followers  https://www.linkedin.com/in/shubh-sahoo-b40b17223   \n",
              "5165    Renton, Washington  https://www.linkedin.com/in/mahmad-sher-ali-24...   \n",
              "5389       2,208 followers  https://www.linkedin.com/in/debika-bhattacharj...   \n",
              "5921                   NaN  https://www.linkedin.com/in/ankit-sharma-023aa010   \n",
              "6272     364,373 followers    https://www.linkedin.com/in/chelsea-p-526348202   \n",
              "6340     252,490 followers  https://www.linkedin.com/in/sonali-sonkar-2a94...   \n",
              "6770                   NaN                                                NaN   \n",
              "6814       3,438 followers   https://www.linkedin.com/in/isha-gupta-00b515190   \n",
              "7602         810 followers  https://www.linkedin.com/in/amol-chhabra-21a9b...   \n",
              "\n",
              "                                            job_details  min_employ  \\\n",
              "4     About the job The ideal candidate will use the...           1   \n",
              "212   About the job REACTJS AND NODEJSEXPERIENCE- 2YRS+          51   \n",
              "913   About the job Role** IIB and IBM MQ Support As...          11   \n",
              "1092  About the job Roles and Responsibilities:Knowl...          51   \n",
              "1165  About the job Title – Real-Time Game Developer...          11   \n",
              "1606  About the job Job Description: We are seeking ...           1   \n",
              "1678  About the job Should have minimum experience o...          51   \n",
              "2136  About the job Roles & Responsibilities• Implem...           1   \n",
              "2157  About the job Visualization tools and software...           0   \n",
              "2419  About the job Job Overview The Full Stack Deve...          51   \n",
              "2683  About the job Company DescriptionClient is a U...          51   \n",
              "3017  About the job Experience: -· 4-10 years of rel...          51   \n",
              "3134  About the job 4+ years of experience Machine l...          51   \n",
              "3185  About the job NEW OPPORTUNITY || PERMANENT ROL...          51   \n",
              "4587  About the job TuTeck Technologies is a London-...          11   \n",
              "5007  About the job Urgent hiring for Assistant Prof...        5001   \n",
              "5165  About the job Problem solving.Responsibility.T...           1   \n",
              "5389  About the job v What does Human Resources do? ...         201   \n",
              "5921  About the job Job description • Must have 5-8 ...        1001   \n",
              "6272  About the job 💼 Quantitative Trader/ Researche...         201   \n",
              "6340  About the job HIRING FOR FRESHERS & EXPERIENCE...        1001   \n",
              "6770  About the job Exp - 5+ yearsCTC - 15-20 LpaSki...         201   \n",
              "6814  About the job The Current hiring is going on f...         501   \n",
              "7602  About the job Profile: Experienced React Nativ...           1   \n",
              "\n",
              "      max_employ  \n",
              "4             10  \n",
              "212          200  \n",
              "913           50  \n",
              "1092         200  \n",
              "1165          50  \n",
              "1606          10  \n",
              "1678         200  \n",
              "2136          10  \n",
              "2157       10001  \n",
              "2419         200  \n",
              "2683         200  \n",
              "3017         200  \n",
              "3134         200  \n",
              "3185         200  \n",
              "4587          50  \n",
              "5007       10000  \n",
              "5165          10  \n",
              "5389         500  \n",
              "5921        5000  \n",
              "6272         500  \n",
              "6340        5000  \n",
              "6770         500  \n",
              "6814        1000  \n",
              "7602          10  "
            ],
            "text/html": [
              "\n",
              "  <div id=\"df-8b977782-deb4-4234-a009-72fdb58459e8\" class=\"colab-df-container\">\n",
              "    <div>\n",
              "<style scoped>\n",
              "    .dataframe tbody tr th:only-of-type {\n",
              "        vertical-align: middle;\n",
              "    }\n",
              "\n",
              "    .dataframe tbody tr th {\n",
              "        vertical-align: top;\n",
              "    }\n",
              "\n",
              "    .dataframe thead th {\n",
              "        text-align: right;\n",
              "    }\n",
              "</style>\n",
              "<table border=\"1\" class=\"dataframe\">\n",
              "  <thead>\n",
              "    <tr style=\"text-align: right;\">\n",
              "      <th></th>\n",
              "      <th>job_ID</th>\n",
              "      <th>job</th>\n",
              "      <th>location</th>\n",
              "      <th>company_name</th>\n",
              "      <th>work_type</th>\n",
              "      <th>full_time_remote</th>\n",
              "      <th>no_of_employ</th>\n",
              "      <th>no_of_application</th>\n",
              "      <th>posted_day_ago</th>\n",
              "      <th>alumni</th>\n",
              "      <th>Hiring_person</th>\n",
              "      <th>linkedin_followers</th>\n",
              "      <th>hiring_person_link</th>\n",
              "      <th>job_details</th>\n",
              "      <th>min_employ</th>\n",
              "      <th>max_employ</th>\n",
              "    </tr>\n",
              "  </thead>\n",
              "  <tbody>\n",
              "    <tr>\n",
              "      <th>4</th>\n",
              "      <td>3473311511</td>\n",
              "      <td>Data Analyst</td>\n",
              "      <td>Mohali district, Punjab, India</td>\n",
              "      <td>Timeline Freight Brokers</td>\n",
              "      <td>On-site</td>\n",
              "      <td>Full-time</td>\n",
              "      <td>1-10</td>\n",
              "      <td>8</td>\n",
              "      <td>26 minutes</td>\n",
              "      <td>1 company alumni</td>\n",
              "      <td>Manisha (Gisele Smith)</td>\n",
              "      <td>NaN</td>\n",
              "      <td>https://www.linkedin.com/in/manisharathore0029</td>\n",
              "      <td>About the job The ideal candidate will use the...</td>\n",
              "      <td>1</td>\n",
              "      <td>10</td>\n",
              "    </tr>\n",
              "    <tr>\n",
              "      <th>212</th>\n",
              "      <td>3472830898</td>\n",
              "      <td>Mern stack developer</td>\n",
              "      <td>Mohali district, Punjab, India</td>\n",
              "      <td>Opportunity One Step Solutions Private Limited</td>\n",
              "      <td>On-site</td>\n",
              "      <td>Full-time</td>\n",
              "      <td>51-200</td>\n",
              "      <td>11</td>\n",
              "      <td>5 hours</td>\n",
              "      <td>NaN</td>\n",
              "      <td>Apurva Tiwari</td>\n",
              "      <td>10,712 followers</td>\n",
              "      <td>https://www.linkedin.com/in/apurva-tiwari-6a14...</td>\n",
              "      <td>About the job REACTJS AND NODEJSEXPERIENCE- 2YRS+</td>\n",
              "      <td>51</td>\n",
              "      <td>200</td>\n",
              "    </tr>\n",
              "    <tr>\n",
              "      <th>913</th>\n",
              "      <td>3472837170</td>\n",
              "      <td>IIB Developer</td>\n",
              "      <td>Bangalore Urban district, India</td>\n",
              "      <td>The IT Mind</td>\n",
              "      <td>On-site</td>\n",
              "      <td>Full-time</td>\n",
              "      <td>11-50</td>\n",
              "      <td>11</td>\n",
              "      <td>9 hours</td>\n",
              "      <td>NaN</td>\n",
              "      <td>Shrutika Khare</td>\n",
              "      <td>NaN</td>\n",
              "      <td>https://www.linkedin.com/in/shrutika-khare-069...</td>\n",
              "      <td>About the job Role** IIB and IBM MQ Support As...</td>\n",
              "      <td>11</td>\n",
              "      <td>50</td>\n",
              "    </tr>\n",
              "    <tr>\n",
              "      <th>1092</th>\n",
              "      <td>3471876627</td>\n",
              "      <td>Python Web scraping | Crawling - Id: 7ec3</td>\n",
              "      <td>Mohali district, Punjab, India</td>\n",
              "      <td>Gmware</td>\n",
              "      <td>On-site</td>\n",
              "      <td>Full-time</td>\n",
              "      <td>51-200</td>\n",
              "      <td>19</td>\n",
              "      <td>17 hours</td>\n",
              "      <td>NaN</td>\n",
              "      <td>Prerna Mittal</td>\n",
              "      <td>28,101 followers</td>\n",
              "      <td>https://www.linkedin.com/in/prerna-mittal-040a...</td>\n",
              "      <td>About the job Roles and Responsibilities:Knowl...</td>\n",
              "      <td>51</td>\n",
              "      <td>200</td>\n",
              "    </tr>\n",
              "    <tr>\n",
              "      <th>1165</th>\n",
              "      <td>3467373716</td>\n",
              "      <td>Game Developer</td>\n",
              "      <td>APAC</td>\n",
              "      <td>Hyqoo</td>\n",
              "      <td>Remote</td>\n",
              "      <td>Contract · Associate</td>\n",
              "      <td>11-50</td>\n",
              "      <td>hours</td>\n",
              "      <td>13 hours</td>\n",
              "      <td>1 company alumni</td>\n",
              "      <td>Nida Noor</td>\n",
              "      <td>67,526 followers</td>\n",
              "      <td>https://www.linkedin.com/in/nidanoor12</td>\n",
              "      <td>About the job Title – Real-Time Game Developer...</td>\n",
              "      <td>11</td>\n",
              "      <td>50</td>\n",
              "    </tr>\n",
              "    <tr>\n",
              "      <th>1606</th>\n",
              "      <td>3473365792</td>\n",
              "      <td>CI/Laravel Developer</td>\n",
              "      <td>Kolkata metropolitan area, West Bengal, India</td>\n",
              "      <td>Aranax Technologies Pvt Ltd</td>\n",
              "      <td>On-site</td>\n",
              "      <td>Full-time</td>\n",
              "      <td>1-10</td>\n",
              "      <td>hours</td>\n",
              "      <td>4 hours</td>\n",
              "      <td>NaN</td>\n",
              "      <td>Kousik Pan</td>\n",
              "      <td>108 followers</td>\n",
              "      <td>https://www.linkedin.com/in/kousik-pan-395a21116</td>\n",
              "      <td>About the job Job Description: We are seeking ...</td>\n",
              "      <td>1</td>\n",
              "      <td>10</td>\n",
              "    </tr>\n",
              "    <tr>\n",
              "      <th>1678</th>\n",
              "      <td>3472537497</td>\n",
              "      <td>NodeJs Developer</td>\n",
              "      <td>Mohali district, Punjab, India</td>\n",
              "      <td>Henceforth Solutions</td>\n",
              "      <td>On-site</td>\n",
              "      <td>Full-time</td>\n",
              "      <td>51-200</td>\n",
              "      <td>hours</td>\n",
              "      <td>16 hours</td>\n",
              "      <td>NaN</td>\n",
              "      <td>Simran Walia</td>\n",
              "      <td>NaN</td>\n",
              "      <td>https://www.linkedin.com/in/simran-walia-244b4...</td>\n",
              "      <td>About the job Should have minimum experience o...</td>\n",
              "      <td>51</td>\n",
              "      <td>200</td>\n",
              "    </tr>\n",
              "    <tr>\n",
              "      <th>2136</th>\n",
              "      <td>3469578662</td>\n",
              "      <td>Golang developer</td>\n",
              "      <td>Mohali district, Punjab, India</td>\n",
              "      <td>Plum Careers</td>\n",
              "      <td>NaN</td>\n",
              "      <td>Full-time</td>\n",
              "      <td>1-10</td>\n",
              "      <td>2</td>\n",
              "      <td>1 day</td>\n",
              "      <td>NaN</td>\n",
              "      <td>Aakriti G</td>\n",
              "      <td>94 followers</td>\n",
              "      <td>https://www.linkedin.com/in/aakriti-g-746872205</td>\n",
              "      <td>About the job Roles &amp; Responsibilities• Implem...</td>\n",
              "      <td>1</td>\n",
              "      <td>10</td>\n",
              "    </tr>\n",
              "    <tr>\n",
              "      <th>2157</th>\n",
              "      <td>3458548152</td>\n",
              "      <td>Data Visualization</td>\n",
              "      <td>Bangalore Urban district, India</td>\n",
              "      <td>Tata Consultancy Services</td>\n",
              "      <td>Hybrid</td>\n",
              "      <td>Full-time · Mid-Senior level</td>\n",
              "      <td>10001</td>\n",
              "      <td>200</td>\n",
              "      <td>6 days</td>\n",
              "      <td>10,080 company alumni</td>\n",
              "      <td>NaN</td>\n",
              "      <td>11,920,290 followers</td>\n",
              "      <td>NaN</td>\n",
              "      <td>About the job Visualization tools and software...</td>\n",
              "      <td>0</td>\n",
              "      <td>10001</td>\n",
              "    </tr>\n",
              "    <tr>\n",
              "      <th>2419</th>\n",
              "      <td>3466109642</td>\n",
              "      <td>Full Stack Developer</td>\n",
              "      <td>Kolkata metropolitan area, West Bengal, India</td>\n",
              "      <td>SkillTechLab Pvt Ltd</td>\n",
              "      <td>On-site</td>\n",
              "      <td>Full-time</td>\n",
              "      <td>51-200</td>\n",
              "      <td>day</td>\n",
              "      <td>1 day</td>\n",
              "      <td>NaN</td>\n",
              "      <td>skill tech lab</td>\n",
              "      <td>143 followers</td>\n",
              "      <td>https://www.linkedin.com/in/skill-tech-lab-a94...</td>\n",
              "      <td>About the job Job Overview The Full Stack Deve...</td>\n",
              "      <td>51</td>\n",
              "      <td>200</td>\n",
              "    </tr>\n",
              "    <tr>\n",
              "      <th>2683</th>\n",
              "      <td>3468306424</td>\n",
              "      <td>Quant Developer (Data Science)</td>\n",
              "      <td>APAC</td>\n",
              "      <td>Execuzen</td>\n",
              "      <td>Remote</td>\n",
              "      <td>Full-time</td>\n",
              "      <td>51-200</td>\n",
              "      <td>days</td>\n",
              "      <td>2 days</td>\n",
              "      <td>NaN</td>\n",
              "      <td>Lingyi 令一 Kong 孔</td>\n",
              "      <td>4,529 followers</td>\n",
              "      <td>https://www.linkedin.com/in/lingyi-%E4%BB%A4%E...</td>\n",
              "      <td>About the job Company DescriptionClient is a U...</td>\n",
              "      <td>51</td>\n",
              "      <td>200</td>\n",
              "    </tr>\n",
              "    <tr>\n",
              "      <th>3017</th>\n",
              "      <td>3476188459</td>\n",
              "      <td>Lead Data Scientist</td>\n",
              "      <td>Kolkata metropolitan area, West Bengal, India</td>\n",
              "      <td>Tanishi Consultants Pvt. Ltd.</td>\n",
              "      <td>On-site</td>\n",
              "      <td>Full-time</td>\n",
              "      <td>51-200</td>\n",
              "      <td>24</td>\n",
              "      <td>6 hours</td>\n",
              "      <td>NaN</td>\n",
              "      <td>Gunjan Khandelwal</td>\n",
              "      <td>7,749 followers</td>\n",
              "      <td>https://www.linkedin.com/in/gunjan-khandelwal-...</td>\n",
              "      <td>About the job Experience: -· 4-10 years of rel...</td>\n",
              "      <td>51</td>\n",
              "      <td>200</td>\n",
              "    </tr>\n",
              "    <tr>\n",
              "      <th>3134</th>\n",
              "      <td>3469074162</td>\n",
              "      <td>Data Scientist</td>\n",
              "      <td>Mohali district, Punjab, India</td>\n",
              "      <td>TIGI HR ®</td>\n",
              "      <td>On-site</td>\n",
              "      <td>Full-time · Associate</td>\n",
              "      <td>51-200</td>\n",
              "      <td>hours</td>\n",
              "      <td>5 hours</td>\n",
              "      <td>1 company alumni</td>\n",
              "      <td>Snehal Patel</td>\n",
              "      <td>NaN</td>\n",
              "      <td>https://www.linkedin.com/in/snehal-patel-68996...</td>\n",
              "      <td>About the job 4+ years of experience Machine l...</td>\n",
              "      <td>51</td>\n",
              "      <td>200</td>\n",
              "    </tr>\n",
              "    <tr>\n",
              "      <th>3185</th>\n",
              "      <td>3474478632</td>\n",
              "      <td>Lead Development Engineer</td>\n",
              "      <td>Bangalore Urban district, India</td>\n",
              "      <td>Info Origin Inc.</td>\n",
              "      <td>On-site</td>\n",
              "      <td>Full-time</td>\n",
              "      <td>51-200</td>\n",
              "      <td>hours</td>\n",
              "      <td>14 hours</td>\n",
              "      <td>NaN</td>\n",
              "      <td>Shumaila Ahsan</td>\n",
              "      <td>58,135 followers</td>\n",
              "      <td>https://www.linkedin.com/in/shumaila-ahsan-a34...</td>\n",
              "      <td>About the job NEW OPPORTUNITY || PERMANENT ROL...</td>\n",
              "      <td>51</td>\n",
              "      <td>200</td>\n",
              "    </tr>\n",
              "    <tr>\n",
              "      <th>4587</th>\n",
              "      <td>3469503429</td>\n",
              "      <td>Azure Data Engineer</td>\n",
              "      <td>Kolkata metropolitan area, West Bengal, India</td>\n",
              "      <td>TuTeck Technologies</td>\n",
              "      <td>On-site</td>\n",
              "      <td>Full-time</td>\n",
              "      <td>11-50</td>\n",
              "      <td>days</td>\n",
              "      <td>2 days</td>\n",
              "      <td>NaN</td>\n",
              "      <td>Jagriti Banerjee</td>\n",
              "      <td>NaN</td>\n",
              "      <td>https://www.linkedin.com/in/jagriti-banerjee-3...</td>\n",
              "      <td>About the job TuTeck Technologies is a London-...</td>\n",
              "      <td>11</td>\n",
              "      <td>50</td>\n",
              "    </tr>\n",
              "    <tr>\n",
              "      <th>5007</th>\n",
              "      <td>3474489243</td>\n",
              "      <td>Assistant Professor-Digital Marketing/Social M...</td>\n",
              "      <td>Mohali district, Punjab, India</td>\n",
              "      <td>Amity University</td>\n",
              "      <td>On-site</td>\n",
              "      <td>Contract</td>\n",
              "      <td>5001-10000</td>\n",
              "      <td>hours</td>\n",
              "      <td>12 hours</td>\n",
              "      <td>NaN</td>\n",
              "      <td>Shubh Sahoo</td>\n",
              "      <td>275,657 followers</td>\n",
              "      <td>https://www.linkedin.com/in/shubh-sahoo-b40b17223</td>\n",
              "      <td>About the job Urgent hiring for Assistant Prof...</td>\n",
              "      <td>5001</td>\n",
              "      <td>10000</td>\n",
              "    </tr>\n",
              "    <tr>\n",
              "      <th>5165</th>\n",
              "      <td>3476447935</td>\n",
              "      <td>Sales Officer</td>\n",
              "      <td>Golaghat district, Assam, India</td>\n",
              "      <td>K&amp;L BEVERAGE COMPANY, LLC</td>\n",
              "      <td>On-site</td>\n",
              "      <td>Full-time</td>\n",
              "      <td>1-10</td>\n",
              "      <td>hours</td>\n",
              "      <td>9 hours</td>\n",
              "      <td>NaN</td>\n",
              "      <td>Mahmad Sher Ali</td>\n",
              "      <td>Renton, Washington</td>\n",
              "      <td>https://www.linkedin.com/in/mahmad-sher-ali-24...</td>\n",
              "      <td>About the job Problem solving.Responsibility.T...</td>\n",
              "      <td>1</td>\n",
              "      <td>10</td>\n",
              "    </tr>\n",
              "    <tr>\n",
              "      <th>5389</th>\n",
              "      <td>3476912710</td>\n",
              "      <td>Human Resources Intern</td>\n",
              "      <td>Kolkata metropolitan area, West Bengal, India</td>\n",
              "      <td>Lead Height</td>\n",
              "      <td>On-site</td>\n",
              "      <td>Full-time</td>\n",
              "      <td>201-500</td>\n",
              "      <td>6</td>\n",
              "      <td>13 hours</td>\n",
              "      <td>NaN</td>\n",
              "      <td>Debika Bhattacharjee</td>\n",
              "      <td>2,208 followers</td>\n",
              "      <td>https://www.linkedin.com/in/debika-bhattacharj...</td>\n",
              "      <td>About the job v What does Human Resources do? ...</td>\n",
              "      <td>201</td>\n",
              "      <td>500</td>\n",
              "    </tr>\n",
              "    <tr>\n",
              "      <th>5921</th>\n",
              "      <td>3477681548</td>\n",
              "      <td>Security_Analyst_GRC (PD)</td>\n",
              "      <td>Mohali district, Punjab, India</td>\n",
              "      <td>Mobile Programming LLC</td>\n",
              "      <td>On-site</td>\n",
              "      <td>Full-time</td>\n",
              "      <td>1001-5000</td>\n",
              "      <td>minutes</td>\n",
              "      <td>16 minutes</td>\n",
              "      <td>2 company alumni</td>\n",
              "      <td>Ankit Sharma</td>\n",
              "      <td>NaN</td>\n",
              "      <td>https://www.linkedin.com/in/ankit-sharma-023aa010</td>\n",
              "      <td>About the job Job description • Must have 5-8 ...</td>\n",
              "      <td>1001</td>\n",
              "      <td>5000</td>\n",
              "    </tr>\n",
              "    <tr>\n",
              "      <th>6272</th>\n",
              "      <td>3470505574</td>\n",
              "      <td>Quantitative Trader</td>\n",
              "      <td>APAC</td>\n",
              "      <td>Storm2</td>\n",
              "      <td>Remote</td>\n",
              "      <td>Full-time · Mid-Senior level</td>\n",
              "      <td>201-500</td>\n",
              "      <td>49</td>\n",
              "      <td>6 hours</td>\n",
              "      <td>NaN</td>\n",
              "      <td>Chelsea P.</td>\n",
              "      <td>364,373 followers</td>\n",
              "      <td>https://www.linkedin.com/in/chelsea-p-526348202</td>\n",
              "      <td>About the job 💼 Quantitative Trader/ Researche...</td>\n",
              "      <td>201</td>\n",
              "      <td>500</td>\n",
              "    </tr>\n",
              "    <tr>\n",
              "      <th>6340</th>\n",
              "      <td>3470569238</td>\n",
              "      <td>Sales Consultant | Bangalore | Freshers | Grads</td>\n",
              "      <td>Bangalore Urban district, India</td>\n",
              "      <td>Square Yards</td>\n",
              "      <td>On-site</td>\n",
              "      <td>Full-time</td>\n",
              "      <td>1001-5000</td>\n",
              "      <td>1</td>\n",
              "      <td>1 hour</td>\n",
              "      <td>NaN</td>\n",
              "      <td>Sonali Sonkar</td>\n",
              "      <td>252,490 followers</td>\n",
              "      <td>https://www.linkedin.com/in/sonali-sonkar-2a94...</td>\n",
              "      <td>About the job HIRING FOR FRESHERS &amp; EXPERIENCE...</td>\n",
              "      <td>1001</td>\n",
              "      <td>5000</td>\n",
              "    </tr>\n",
              "    <tr>\n",
              "      <th>6770</th>\n",
              "      <td>3469004572</td>\n",
              "      <td>Full Stack Engineer</td>\n",
              "      <td>Mohali district, Punjab, India</td>\n",
              "      <td>White Force Group</td>\n",
              "      <td>On-site</td>\n",
              "      <td>Full-time · Mid-Senior level</td>\n",
              "      <td>201-500</td>\n",
              "      <td>seconds</td>\n",
              "      <td>34 seconds</td>\n",
              "      <td>NaN</td>\n",
              "      <td>NaN</td>\n",
              "      <td>NaN</td>\n",
              "      <td>NaN</td>\n",
              "      <td>About the job Exp - 5+ yearsCTC - 15-20 LpaSki...</td>\n",
              "      <td>201</td>\n",
              "      <td>500</td>\n",
              "    </tr>\n",
              "    <tr>\n",
              "      <th>6814</th>\n",
              "      <td>3474486314</td>\n",
              "      <td>Business Analyst</td>\n",
              "      <td>Kolkata metropolitan area, West Bengal, India</td>\n",
              "      <td>SKILL ELIXIREDGE</td>\n",
              "      <td>On-site</td>\n",
              "      <td>Full-time</td>\n",
              "      <td>501-1000</td>\n",
              "      <td>5</td>\n",
              "      <td>1 hour</td>\n",
              "      <td>NaN</td>\n",
              "      <td>Isha Gupta</td>\n",
              "      <td>3,438 followers</td>\n",
              "      <td>https://www.linkedin.com/in/isha-gupta-00b515190</td>\n",
              "      <td>About the job The Current hiring is going on f...</td>\n",
              "      <td>501</td>\n",
              "      <td>1000</td>\n",
              "    </tr>\n",
              "    <tr>\n",
              "      <th>7602</th>\n",
              "      <td>3271066191</td>\n",
              "      <td>React Native Developer</td>\n",
              "      <td>Mohali district, Punjab, India</td>\n",
              "      <td>Young Createch Pvt. Ltd.</td>\n",
              "      <td>On-site</td>\n",
              "      <td>Full-time</td>\n",
              "      <td>1-10</td>\n",
              "      <td>30</td>\n",
              "      <td>5 days</td>\n",
              "      <td>NaN</td>\n",
              "      <td>Amol Chhabra</td>\n",
              "      <td>810 followers</td>\n",
              "      <td>https://www.linkedin.com/in/amol-chhabra-21a9b...</td>\n",
              "      <td>About the job Profile: Experienced React Nativ...</td>\n",
              "      <td>1</td>\n",
              "      <td>10</td>\n",
              "    </tr>\n",
              "  </tbody>\n",
              "</table>\n",
              "</div>\n",
              "    <div class=\"colab-df-buttons\">\n",
              "\n",
              "  <div class=\"colab-df-container\">\n",
              "    <button class=\"colab-df-convert\" onclick=\"convertToInteractive('df-8b977782-deb4-4234-a009-72fdb58459e8')\"\n",
              "            title=\"Convert this dataframe to an interactive table.\"\n",
              "            style=\"display:none;\">\n",
              "\n",
              "  <svg xmlns=\"http://www.w3.org/2000/svg\" height=\"24px\" viewBox=\"0 -960 960 960\">\n",
              "    <path d=\"M120-120v-720h720v720H120Zm60-500h600v-160H180v160Zm220 220h160v-160H400v160Zm0 220h160v-160H400v160ZM180-400h160v-160H180v160Zm440 0h160v-160H620v160ZM180-180h160v-160H180v160Zm440 0h160v-160H620v160Z\"/>\n",
              "  </svg>\n",
              "    </button>\n",
              "\n",
              "  <style>\n",
              "    .colab-df-container {\n",
              "      display:flex;\n",
              "      gap: 12px;\n",
              "    }\n",
              "\n",
              "    .colab-df-convert {\n",
              "      background-color: #E8F0FE;\n",
              "      border: none;\n",
              "      border-radius: 50%;\n",
              "      cursor: pointer;\n",
              "      display: none;\n",
              "      fill: #1967D2;\n",
              "      height: 32px;\n",
              "      padding: 0 0 0 0;\n",
              "      width: 32px;\n",
              "    }\n",
              "\n",
              "    .colab-df-convert:hover {\n",
              "      background-color: #E2EBFA;\n",
              "      box-shadow: 0px 1px 2px rgba(60, 64, 67, 0.3), 0px 1px 3px 1px rgba(60, 64, 67, 0.15);\n",
              "      fill: #174EA6;\n",
              "    }\n",
              "\n",
              "    .colab-df-buttons div {\n",
              "      margin-bottom: 4px;\n",
              "    }\n",
              "\n",
              "    [theme=dark] .colab-df-convert {\n",
              "      background-color: #3B4455;\n",
              "      fill: #D2E3FC;\n",
              "    }\n",
              "\n",
              "    [theme=dark] .colab-df-convert:hover {\n",
              "      background-color: #434B5C;\n",
              "      box-shadow: 0px 1px 3px 1px rgba(0, 0, 0, 0.15);\n",
              "      filter: drop-shadow(0px 1px 2px rgba(0, 0, 0, 0.3));\n",
              "      fill: #FFFFFF;\n",
              "    }\n",
              "  </style>\n",
              "\n",
              "    <script>\n",
              "      const buttonEl =\n",
              "        document.querySelector('#df-8b977782-deb4-4234-a009-72fdb58459e8 button.colab-df-convert');\n",
              "      buttonEl.style.display =\n",
              "        google.colab.kernel.accessAllowed ? 'block' : 'none';\n",
              "\n",
              "      async function convertToInteractive(key) {\n",
              "        const element = document.querySelector('#df-8b977782-deb4-4234-a009-72fdb58459e8');\n",
              "        const dataTable =\n",
              "          await google.colab.kernel.invokeFunction('convertToInteractive',\n",
              "                                                    [key], {});\n",
              "        if (!dataTable) return;\n",
              "\n",
              "        const docLinkHtml = 'Like what you see? Visit the ' +\n",
              "          '<a target=\"_blank\" href=https://colab.research.google.com/notebooks/data_table.ipynb>data table notebook</a>'\n",
              "          + ' to learn more about interactive tables.';\n",
              "        element.innerHTML = '';\n",
              "        dataTable['output_type'] = 'display_data';\n",
              "        await google.colab.output.renderOutput(dataTable, element);\n",
              "        const docLink = document.createElement('div');\n",
              "        docLink.innerHTML = docLinkHtml;\n",
              "        element.appendChild(docLink);\n",
              "      }\n",
              "    </script>\n",
              "  </div>\n",
              "\n",
              "\n",
              "<div id=\"df-72bca482-2a9d-4f37-91d3-3d8edd621385\">\n",
              "  <button class=\"colab-df-quickchart\" onclick=\"quickchart('df-72bca482-2a9d-4f37-91d3-3d8edd621385')\"\n",
              "            title=\"Suggest charts\"\n",
              "            style=\"display:none;\">\n",
              "\n",
              "<svg xmlns=\"http://www.w3.org/2000/svg\" height=\"24px\"viewBox=\"0 0 24 24\"\n",
              "     width=\"24px\">\n",
              "    <g>\n",
              "        <path d=\"M19 3H5c-1.1 0-2 .9-2 2v14c0 1.1.9 2 2 2h14c1.1 0 2-.9 2-2V5c0-1.1-.9-2-2-2zM9 17H7v-7h2v7zm4 0h-2V7h2v10zm4 0h-2v-4h2v4z\"/>\n",
              "    </g>\n",
              "</svg>\n",
              "  </button>\n",
              "\n",
              "<style>\n",
              "  .colab-df-quickchart {\n",
              "      --bg-color: #E8F0FE;\n",
              "      --fill-color: #1967D2;\n",
              "      --hover-bg-color: #E2EBFA;\n",
              "      --hover-fill-color: #174EA6;\n",
              "      --disabled-fill-color: #AAA;\n",
              "      --disabled-bg-color: #DDD;\n",
              "  }\n",
              "\n",
              "  [theme=dark] .colab-df-quickchart {\n",
              "      --bg-color: #3B4455;\n",
              "      --fill-color: #D2E3FC;\n",
              "      --hover-bg-color: #434B5C;\n",
              "      --hover-fill-color: #FFFFFF;\n",
              "      --disabled-bg-color: #3B4455;\n",
              "      --disabled-fill-color: #666;\n",
              "  }\n",
              "\n",
              "  .colab-df-quickchart {\n",
              "    background-color: var(--bg-color);\n",
              "    border: none;\n",
              "    border-radius: 50%;\n",
              "    cursor: pointer;\n",
              "    display: none;\n",
              "    fill: var(--fill-color);\n",
              "    height: 32px;\n",
              "    padding: 0;\n",
              "    width: 32px;\n",
              "  }\n",
              "\n",
              "  .colab-df-quickchart:hover {\n",
              "    background-color: var(--hover-bg-color);\n",
              "    box-shadow: 0 1px 2px rgba(60, 64, 67, 0.3), 0 1px 3px 1px rgba(60, 64, 67, 0.15);\n",
              "    fill: var(--button-hover-fill-color);\n",
              "  }\n",
              "\n",
              "  .colab-df-quickchart-complete:disabled,\n",
              "  .colab-df-quickchart-complete:disabled:hover {\n",
              "    background-color: var(--disabled-bg-color);\n",
              "    fill: var(--disabled-fill-color);\n",
              "    box-shadow: none;\n",
              "  }\n",
              "\n",
              "  .colab-df-spinner {\n",
              "    border: 2px solid var(--fill-color);\n",
              "    border-color: transparent;\n",
              "    border-bottom-color: var(--fill-color);\n",
              "    animation:\n",
              "      spin 1s steps(1) infinite;\n",
              "  }\n",
              "\n",
              "  @keyframes spin {\n",
              "    0% {\n",
              "      border-color: transparent;\n",
              "      border-bottom-color: var(--fill-color);\n",
              "      border-left-color: var(--fill-color);\n",
              "    }\n",
              "    20% {\n",
              "      border-color: transparent;\n",
              "      border-left-color: var(--fill-color);\n",
              "      border-top-color: var(--fill-color);\n",
              "    }\n",
              "    30% {\n",
              "      border-color: transparent;\n",
              "      border-left-color: var(--fill-color);\n",
              "      border-top-color: var(--fill-color);\n",
              "      border-right-color: var(--fill-color);\n",
              "    }\n",
              "    40% {\n",
              "      border-color: transparent;\n",
              "      border-right-color: var(--fill-color);\n",
              "      border-top-color: var(--fill-color);\n",
              "    }\n",
              "    60% {\n",
              "      border-color: transparent;\n",
              "      border-right-color: var(--fill-color);\n",
              "    }\n",
              "    80% {\n",
              "      border-color: transparent;\n",
              "      border-right-color: var(--fill-color);\n",
              "      border-bottom-color: var(--fill-color);\n",
              "    }\n",
              "    90% {\n",
              "      border-color: transparent;\n",
              "      border-bottom-color: var(--fill-color);\n",
              "    }\n",
              "  }\n",
              "</style>\n",
              "\n",
              "  <script>\n",
              "    async function quickchart(key) {\n",
              "      const quickchartButtonEl =\n",
              "        document.querySelector('#' + key + ' button');\n",
              "      quickchartButtonEl.disabled = true;  // To prevent multiple clicks.\n",
              "      quickchartButtonEl.classList.add('colab-df-spinner');\n",
              "      try {\n",
              "        const charts = await google.colab.kernel.invokeFunction(\n",
              "            'suggestCharts', [key], {});\n",
              "      } catch (error) {\n",
              "        console.error('Error during call to suggestCharts:', error);\n",
              "      }\n",
              "      quickchartButtonEl.classList.remove('colab-df-spinner');\n",
              "      quickchartButtonEl.classList.add('colab-df-quickchart-complete');\n",
              "    }\n",
              "    (() => {\n",
              "      let quickchartButtonEl =\n",
              "        document.querySelector('#df-72bca482-2a9d-4f37-91d3-3d8edd621385 button');\n",
              "      quickchartButtonEl.style.display =\n",
              "        google.colab.kernel.accessAllowed ? 'block' : 'none';\n",
              "    })();\n",
              "  </script>\n",
              "</div>\n",
              "\n",
              "    </div>\n",
              "  </div>\n"
            ],
            "application/vnd.google.colaboratory.intrinsic+json": {
              "type": "dataframe",
              "summary": "{\n  \"name\": \"df[df['location']\",\n  \"rows\": 24,\n  \"fields\": [\n    {\n      \"column\": \"job_ID\",\n      \"properties\": {\n        \"dtype\": \"number\",\n        \"std\": 41137616,\n        \"min\": 3271066191,\n        \"max\": 3477681548,\n        \"num_unique_values\": 24,\n        \"samples\": [\n          3458548152,\n          3476447935,\n          3473311511\n        ],\n        \"semantic_type\": \"\",\n        \"description\": \"\"\n      }\n    },\n    {\n      \"column\": \"job\",\n      \"properties\": {\n        \"dtype\": \"string\",\n        \"num_unique_values\": 24,\n        \"samples\": [\n          \"Data Visualization\",\n          \"Sales Officer\",\n          \"Data Analyst\"\n        ],\n        \"semantic_type\": \"\",\n        \"description\": \"\"\n      }\n    },\n    {\n      \"column\": \"location\",\n      \"properties\": {\n        \"dtype\": \"category\",\n        \"num_unique_values\": 5,\n        \"samples\": [\n          \"Bangalore Urban district, India\",\n          \"Golaghat district, Assam, India\",\n          \"APAC\"\n        ],\n        \"semantic_type\": \"\",\n        \"description\": \"\"\n      }\n    },\n    {\n      \"column\": \"company_name\",\n      \"properties\": {\n        \"dtype\": \"string\",\n        \"num_unique_values\": 24,\n        \"samples\": [\n          \"Tata Consultancy Services\",\n          \"K&L BEVERAGE COMPANY, LLC\",\n          \"Timeline Freight Brokers\"\n        ],\n        \"semantic_type\": \"\",\n        \"description\": \"\"\n      }\n    },\n    {\n      \"column\": \"work_type\",\n      \"properties\": {\n        \"dtype\": \"category\",\n        \"num_unique_values\": 3,\n        \"samples\": [\n          \"On-site\",\n          \"Remote\",\n          \"Hybrid\"\n        ],\n        \"semantic_type\": \"\",\n        \"description\": \"\"\n      }\n    },\n    {\n      \"column\": \"full_time_remote\",\n      \"properties\": {\n        \"dtype\": \"category\",\n        \"num_unique_values\": 5,\n        \"samples\": [\n          \"Contract \\u00b7 Associate\",\n          \"Contract\",\n          \"Full-time \\u00b7 Mid-Senior level\"\n        ],\n        \"semantic_type\": \"\",\n        \"description\": \"\"\n      }\n    },\n    {\n      \"column\": \"no_of_employ\",\n      \"properties\": {\n        \"dtype\": \"category\",\n        \"num_unique_values\": 8,\n        \"samples\": [\n          \"51-200 \",\n          \"201-500 \",\n          \"1-10 \"\n        ],\n        \"semantic_type\": \"\",\n        \"description\": \"\"\n      }\n    },\n    {\n      \"column\": \"no_of_application\",\n      \"properties\": {\n        \"dtype\": \"string\",\n        \"num_unique_values\": 16,\n        \"samples\": [\n          \"8\",\n          \"11\",\n          \"200\"\n        ],\n        \"semantic_type\": \"\",\n        \"description\": \"\"\n      }\n    },\n    {\n      \"column\": \"posted_day_ago\",\n      \"properties\": {\n        \"dtype\": \"string\",\n        \"num_unique_values\": 17,\n        \"samples\": [\n          \"26 minutes\",\n          \"5 hours\",\n          \"4 hours\"\n        ],\n        \"semantic_type\": \"\",\n        \"description\": \"\"\n      }\n    },\n    {\n      \"column\": \"alumni\",\n      \"properties\": {\n        \"dtype\": \"category\",\n        \"num_unique_values\": 3,\n        \"samples\": [\n          \"1 company alumni\",\n          \"10,080 company alumni\",\n          \"2 company alumni\"\n        ],\n        \"semantic_type\": \"\",\n        \"description\": \"\"\n      }\n    },\n    {\n      \"column\": \"Hiring_person\",\n      \"properties\": {\n        \"dtype\": \"string\",\n        \"num_unique_values\": 22,\n        \"samples\": [\n          \"Manisha (Gisele Smith)\",\n          \"Jagriti Banerjee\",\n          \"skill tech lab\"\n        ],\n        \"semantic_type\": \"\",\n        \"description\": \"\"\n      }\n    },\n    {\n      \"column\": \"linkedin_followers\",\n      \"properties\": {\n        \"dtype\": \"string\",\n        \"num_unique_values\": 17,\n        \"samples\": [\n          \"10,712 followers\",\n          \"28,101 followers\",\n          \"11,920,290 followers\"\n        ],\n        \"semantic_type\": \"\",\n        \"description\": \"\"\n      }\n    },\n    {\n      \"column\": \"hiring_person_link\",\n      \"properties\": {\n        \"dtype\": \"string\",\n        \"num_unique_values\": 22,\n        \"samples\": [\n          \"https://www.linkedin.com/in/manisharathore0029\",\n          \"https://www.linkedin.com/in/jagriti-banerjee-36813a156\",\n          \"https://www.linkedin.com/in/skill-tech-lab-a9484b209\"\n        ],\n        \"semantic_type\": \"\",\n        \"description\": \"\"\n      }\n    },\n    {\n      \"column\": \"job_details\",\n      \"properties\": {\n        \"dtype\": \"string\",\n        \"num_unique_values\": 24,\n        \"samples\": [\n          \"About the job Visualization tools and software to communicate and present large amounts of information in ways that are universally understandable or easy to interpret and spot patterns, trends and correlations. Experience Range: 3 to 6 years Primary Skill - BI Reporting, Plotting, Story telling, Statistical knowledge - SQL, Traditional and Analytics DBs, Data modeling - Python, SQL, PLSQL, Excel, Tableau, PowerBI\",\n          \"About the job Problem solving.Responsibility.Time management.Team work.Communication.\",\n          \"About the job The ideal candidate will use their passion for big data and analytics to provide insights to the business covering a range of topics. They will be responsible for conducting both recurring and ad hoc analysis for business users. Responsibilities\\u2022 Use statistical methods to analyze data and generate useful business reports\\u2022 Work with management team to create a prioritized list of needs for each business segment\\u2022 Identify and recommend new ways to save money by streamlining business processes\\u2022 Use data to create models that depict trends in the customer base and the consumer population as a whole\\u2022 Work with departmental managers to outline the specific data needs for each business method analysis project QualificationsBachelor's or Master's degree in Statistics or Applied Mathematics or equivalent experience1 - 2 years' Data Analysis experienceProficient in SQL Job Types: Fresher, Full-time, Regular / Permanent Schedule:\\u2022 Evening shift\\u2022 Night shift Ability to commute/relocate:\\u2022 Mohali, Mohali - 160055, Punjab: Reliably commute or planning to relocate before starting work.\"\n        ],\n        \"semantic_type\": \"\",\n        \"description\": \"\"\n      }\n    },\n    {\n      \"column\": \"min_employ\",\n      \"properties\": {\n        \"dtype\": \"number\",\n        \"std\": 1029,\n        \"min\": 0,\n        \"max\": 5001,\n        \"num_unique_values\": 8,\n        \"samples\": [\n          51,\n          201,\n          1\n        ],\n        \"semantic_type\": \"\",\n        \"description\": \"\"\n      }\n    },\n    {\n      \"column\": \"max_employ\",\n      \"properties\": {\n        \"dtype\": \"number\",\n        \"std\": 2971,\n        \"min\": 10,\n        \"max\": 10001,\n        \"num_unique_values\": 8,\n        \"samples\": [\n          200,\n          500,\n          10\n        ],\n        \"semantic_type\": \"\",\n        \"description\": \"\"\n      }\n    }\n  ]\n}"
            }
          },
          "metadata": {},
          "execution_count": 27
        }
      ]
    },
    {
      "cell_type": "code",
      "source": [
        "# Mengubah data menjadi capital each word\n",
        "df['location'] = df['location'].str.title()"
      ],
      "metadata": {
        "id": "KnggsVwOWZMS"
      },
      "execution_count": null,
      "outputs": []
    },
    {
      "cell_type": "code",
      "source": [
        "df['location'].str.istitle().sum()"
      ],
      "metadata": {
        "colab": {
          "base_uri": "https://localhost:8080/"
        },
        "id": "4pEFC1UjaNtg",
        "outputId": "277d8679-2843-427a-c185-67d02e969cea"
      },
      "execution_count": null,
      "outputs": [
        {
          "output_type": "execute_result",
          "data": {
            "text/plain": [
              "5816"
            ]
          },
          "metadata": {},
          "execution_count": 29
        }
      ]
    },
    {
      "cell_type": "code",
      "source": [
        "df['location'][1606]"
      ],
      "metadata": {
        "colab": {
          "base_uri": "https://localhost:8080/",
          "height": 35
        },
        "id": "ZfSIvjwibaRN",
        "outputId": "bc1cd899-c413-4cff-8d14-966f1e825373"
      },
      "execution_count": null,
      "outputs": [
        {
          "output_type": "execute_result",
          "data": {
            "text/plain": [
              "'Kolkata Metropolitan Area, West Bengal, India'"
            ],
            "application/vnd.google.colaboratory.intrinsic+json": {
              "type": "string"
            }
          },
          "metadata": {},
          "execution_count": 30
        }
      ]
    },
    {
      "cell_type": "code",
      "source": [
        "df['location'][2157]"
      ],
      "metadata": {
        "colab": {
          "base_uri": "https://localhost:8080/",
          "height": 35
        },
        "id": "IIMl8k_Ub8jW",
        "outputId": "96b8f975-2b33-449f-f763-bae9b60fdd25"
      },
      "execution_count": null,
      "outputs": [
        {
          "output_type": "execute_result",
          "data": {
            "text/plain": [
              "'Bangalore Urban District, India'"
            ],
            "application/vnd.google.colaboratory.intrinsic+json": {
              "type": "string"
            }
          },
          "metadata": {},
          "execution_count": 31
        }
      ]
    },
    {
      "cell_type": "code",
      "source": [
        "df['location'][6272]"
      ],
      "metadata": {
        "colab": {
          "base_uri": "https://localhost:8080/",
          "height": 35
        },
        "id": "-E3weB8Kb_Fw",
        "outputId": "18762c25-262a-4307-e684-0c0a751f135d"
      },
      "execution_count": null,
      "outputs": [
        {
          "output_type": "execute_result",
          "data": {
            "text/plain": [
              "'Apac'"
            ],
            "application/vnd.google.colaboratory.intrinsic+json": {
              "type": "string"
            }
          },
          "metadata": {},
          "execution_count": 32
        }
      ]
    },
    {
      "cell_type": "markdown",
      "source": [
        "# Deteksi dan Analisis Outlier\n",
        "Pertanyaan: Identifikasi outlier pada kolom `no_of_application`. Definisikan\n",
        "outlier menggunakan metode IQR (Interquartile Range) dan berikan analisis\n",
        "singkat tentang temuan tersebut."
      ],
      "metadata": {
        "id": "SaOwel5MJ7GF"
      }
    },
    {
      "cell_type": "code",
      "source": [
        "df['no_of_application'].head(5)"
      ],
      "metadata": {
        "colab": {
          "base_uri": "https://localhost:8080/",
          "height": 241
        },
        "id": "10LMjJbdccmz",
        "outputId": "1d9a2b8f-0c21-41af-b71c-ea078b338bc7"
      },
      "execution_count": null,
      "outputs": [
        {
          "output_type": "execute_result",
          "data": {
            "text/plain": [
              "0    200\n",
              "1    184\n",
              "2    200\n",
              "3    200\n",
              "4      8\n",
              "Name: no_of_application, dtype: object"
            ],
            "text/html": [
              "<div>\n",
              "<style scoped>\n",
              "    .dataframe tbody tr th:only-of-type {\n",
              "        vertical-align: middle;\n",
              "    }\n",
              "\n",
              "    .dataframe tbody tr th {\n",
              "        vertical-align: top;\n",
              "    }\n",
              "\n",
              "    .dataframe thead th {\n",
              "        text-align: right;\n",
              "    }\n",
              "</style>\n",
              "<table border=\"1\" class=\"dataframe\">\n",
              "  <thead>\n",
              "    <tr style=\"text-align: right;\">\n",
              "      <th></th>\n",
              "      <th>no_of_application</th>\n",
              "    </tr>\n",
              "  </thead>\n",
              "  <tbody>\n",
              "    <tr>\n",
              "      <th>0</th>\n",
              "      <td>200</td>\n",
              "    </tr>\n",
              "    <tr>\n",
              "      <th>1</th>\n",
              "      <td>184</td>\n",
              "    </tr>\n",
              "    <tr>\n",
              "      <th>2</th>\n",
              "      <td>200</td>\n",
              "    </tr>\n",
              "    <tr>\n",
              "      <th>3</th>\n",
              "      <td>200</td>\n",
              "    </tr>\n",
              "    <tr>\n",
              "      <th>4</th>\n",
              "      <td>8</td>\n",
              "    </tr>\n",
              "  </tbody>\n",
              "</table>\n",
              "</div><br><label><b>dtype:</b> object</label>"
            ]
          },
          "metadata": {},
          "execution_count": 33
        }
      ]
    },
    {
      "cell_type": "code",
      "source": [
        "# Cek missing value\n",
        "df['no_of_application'].isna().sum()"
      ],
      "metadata": {
        "id": "nOpczz8EJbzx",
        "colab": {
          "base_uri": "https://localhost:8080/"
        },
        "outputId": "9cf3227d-10cb-468a-d8ea-437fa75a885d"
      },
      "execution_count": null,
      "outputs": [
        {
          "output_type": "execute_result",
          "data": {
            "text/plain": [
              "33"
            ]
          },
          "metadata": {},
          "execution_count": 34
        }
      ]
    },
    {
      "cell_type": "code",
      "source": [
        "df['no_of_application'].describe()"
      ],
      "metadata": {
        "colab": {
          "base_uri": "https://localhost:8080/",
          "height": 210
        },
        "id": "V2cpT0Q5cPBA",
        "outputId": "605381bc-4c2e-4d87-bec1-29f2aac073f4"
      },
      "execution_count": null,
      "outputs": [
        {
          "output_type": "execute_result",
          "data": {
            "text/plain": [
              "count      5810\n",
              "unique      198\n",
              "top       hours\n",
              "freq       2005\n",
              "Name: no_of_application, dtype: object"
            ],
            "text/html": [
              "<div>\n",
              "<style scoped>\n",
              "    .dataframe tbody tr th:only-of-type {\n",
              "        vertical-align: middle;\n",
              "    }\n",
              "\n",
              "    .dataframe tbody tr th {\n",
              "        vertical-align: top;\n",
              "    }\n",
              "\n",
              "    .dataframe thead th {\n",
              "        text-align: right;\n",
              "    }\n",
              "</style>\n",
              "<table border=\"1\" class=\"dataframe\">\n",
              "  <thead>\n",
              "    <tr style=\"text-align: right;\">\n",
              "      <th></th>\n",
              "      <th>no_of_application</th>\n",
              "    </tr>\n",
              "  </thead>\n",
              "  <tbody>\n",
              "    <tr>\n",
              "      <th>count</th>\n",
              "      <td>5810</td>\n",
              "    </tr>\n",
              "    <tr>\n",
              "      <th>unique</th>\n",
              "      <td>198</td>\n",
              "    </tr>\n",
              "    <tr>\n",
              "      <th>top</th>\n",
              "      <td>hours</td>\n",
              "    </tr>\n",
              "    <tr>\n",
              "      <th>freq</th>\n",
              "      <td>2005</td>\n",
              "    </tr>\n",
              "  </tbody>\n",
              "</table>\n",
              "</div><br><label><b>dtype:</b> object</label>"
            ]
          },
          "metadata": {},
          "execution_count": 35
        }
      ]
    },
    {
      "cell_type": "code",
      "source": [
        "# Menampilkan data yang bukan angka\n",
        "df[df['no_of_application'].str.isnumeric()==False]"
      ],
      "metadata": {
        "colab": {
          "base_uri": "https://localhost:8080/",
          "height": 895
        },
        "id": "sG0GTUBgcvWE",
        "outputId": "ca6d050e-a351-444e-d947-50cf7b13bdf1"
      },
      "execution_count": null,
      "outputs": [
        {
          "output_type": "execute_result",
          "data": {
            "text/plain": [
              "          job_ID                                                job  \\\n",
              "9     3473336242                                  Shopify Developer   \n",
              "23    3471878927                                 Spotfire Developer   \n",
              "30    3472851497                                               ssrs   \n",
              "44    3467835536                              TIBCO BW5 Development   \n",
              "49    3474814865                          Sr. PHP/Laravel Developer   \n",
              "...          ...                                                ...   \n",
              "7556  3464527383                     Sap Finance Control Consultant   \n",
              "7557  3459365095  Inside Sales Executive | Digital Refresh Networks   \n",
              "7558  3459759470                Digital Marketing Executive/Manager   \n",
              "7560  3468727380                                     Technical Lead   \n",
              "7561  3469556452                               Servicenow Architect   \n",
              "\n",
              "                         location                         company_name  \\\n",
              "9        Gurugram, Haryana, India                           ADesignGuy   \n",
              "23    Bengaluru, Karnataka, India                        Experis India   \n",
              "30     Mumbai, Maharashtra, India    GenXHire Services Private Limited   \n",
              "44                          India     SRIK Consulting Services Pvt Ltd   \n",
              "49           Kochi, Kerala, India  Chris Johnson Business IT Solutions   \n",
              "...                           ...                                  ...   \n",
              "7556   Chennai, Tamil Nadu, India            Tata Consultancy Services   \n",
              "7557   Mumbai, Maharashtra, India             Digital Refresh Networks   \n",
              "7558  Hyderabad, Telangana, India                       KOVIDA LIMITED   \n",
              "7560     Pune, Maharashtra, India                                 Atos   \n",
              "7561     Pune, Maharashtra, India                Hexaware Technologies   \n",
              "\n",
              "     work_type              full_time_remote no_of_employ no_of_application  \\\n",
              "9       Hybrid                           NaN            0           minutes   \n",
              "23     On-site                     Full-time   1001-5000              hours   \n",
              "30     On-site                     Full-time      51-200              hours   \n",
              "44      Remote                     Full-time       11-50            minutes   \n",
              "49         NaN                     Full-time      51-200              hours   \n",
              "...        ...                           ...          ...               ...   \n",
              "7556   On-site         Full-time · Associate       10001               days   \n",
              "7557   On-site         Full-time · Executive      51-200               days   \n",
              "7558   On-site                     Full-time      51-200               days   \n",
              "7560    Hybrid  Full-time · Mid-Senior level       10001               days   \n",
              "7561    Hybrid                     Full-time       10001                day   \n",
              "\n",
              "     posted_day_ago                 alumni                     Hiring_person  \\\n",
              "9         9 minutes                    NaN                               NaN   \n",
              "23         10 hours       3 company alumni                        Shivani MB   \n",
              "30          4 hours                    NaN                       Suraj Nayak   \n",
              "44       37 minutes       1 company alumni  SRIK Consulting Services Pvt Ltd   \n",
              "49          4 hours                    NaN                     Chris Johnson   \n",
              "...             ...                    ...                               ...   \n",
              "7556         3 days  10,080 company alumni                        Linu James   \n",
              "7557         6 days                    NaN                           Aamir H   \n",
              "7558         5 days                    NaN                         eksaq lms   \n",
              "7560         2 days   2,241 company alumni                     Sonali Borkar   \n",
              "7561          1 day     360 company alumni                       Prashanth R   \n",
              "\n",
              "        linkedin_followers                                 hiring_person_link  \\\n",
              "9          2,163 followers                                                NaN   \n",
              "23        29,076 followers   https://www.linkedin.com/in/shivani-mb-806788145   \n",
              "30                     NaN  https://www.linkedin.com/in/suraj-nayak-b79b8124b   \n",
              "44         1,172 followers        https://www.linkedin.com/in/srik-consulting   \n",
              "49            42 followers  https://www.linkedin.com/in/chris-johnson-0257...   \n",
              "...                    ...                                                ...   \n",
              "7556  11,923,043 followers   https://www.linkedin.com/in/linu-james-731a6b149   \n",
              "7557       7,910 followers      https://www.linkedin.com/in/aamir-h-81355b1b4   \n",
              "7558       1,603 followers    https://www.linkedin.com/in/eksaq-lms-95a1131b7   \n",
              "7560                   NaN  https://www.linkedin.com/in/sonali-borkar-2049...   \n",
              "7561     745,415 followers  https://www.linkedin.com/in/prashanth-r-29a190112   \n",
              "\n",
              "                                            job_details  min_employ  \\\n",
              "9     About the job Job Title: Shopify Developer (In...           0   \n",
              "23    About the job Responsibilities Role : Spotfire...        1001   \n",
              "30    About the job Responsibilities:• Individual co...          51   \n",
              "44    About the job Position / Designation: Tibco BW...          11   \n",
              "49    About the job Job descriptionChris Johnson Bus...          51   \n",
              "...                                                 ...         ...   \n",
              "7556  About the job Greetings from TCS !!! TATA CONS...           0   \n",
              "7557  About the job Company Profile:We (https://www....          51   \n",
              "7558  About the job Digital marketing executive/Mana...          51   \n",
              "7560  About the job ATOS is Hiring Immediate Joiners...           0   \n",
              "7561  About the job Position - Servicenow ArchitectL...           0   \n",
              "\n",
              "      max_employ  \n",
              "9              0  \n",
              "23          5000  \n",
              "30           200  \n",
              "44            50  \n",
              "49           200  \n",
              "...          ...  \n",
              "7556       10001  \n",
              "7557         200  \n",
              "7558         200  \n",
              "7560       10001  \n",
              "7561       10001  \n",
              "\n",
              "[3278 rows x 16 columns]"
            ],
            "text/html": [
              "\n",
              "  <div id=\"df-3ac775d2-209b-4c10-9c2a-0dd0d8fdd63b\" class=\"colab-df-container\">\n",
              "    <div>\n",
              "<style scoped>\n",
              "    .dataframe tbody tr th:only-of-type {\n",
              "        vertical-align: middle;\n",
              "    }\n",
              "\n",
              "    .dataframe tbody tr th {\n",
              "        vertical-align: top;\n",
              "    }\n",
              "\n",
              "    .dataframe thead th {\n",
              "        text-align: right;\n",
              "    }\n",
              "</style>\n",
              "<table border=\"1\" class=\"dataframe\">\n",
              "  <thead>\n",
              "    <tr style=\"text-align: right;\">\n",
              "      <th></th>\n",
              "      <th>job_ID</th>\n",
              "      <th>job</th>\n",
              "      <th>location</th>\n",
              "      <th>company_name</th>\n",
              "      <th>work_type</th>\n",
              "      <th>full_time_remote</th>\n",
              "      <th>no_of_employ</th>\n",
              "      <th>no_of_application</th>\n",
              "      <th>posted_day_ago</th>\n",
              "      <th>alumni</th>\n",
              "      <th>Hiring_person</th>\n",
              "      <th>linkedin_followers</th>\n",
              "      <th>hiring_person_link</th>\n",
              "      <th>job_details</th>\n",
              "      <th>min_employ</th>\n",
              "      <th>max_employ</th>\n",
              "    </tr>\n",
              "  </thead>\n",
              "  <tbody>\n",
              "    <tr>\n",
              "      <th>9</th>\n",
              "      <td>3473336242</td>\n",
              "      <td>Shopify Developer</td>\n",
              "      <td>Gurugram, Haryana, India</td>\n",
              "      <td>ADesignGuy</td>\n",
              "      <td>Hybrid</td>\n",
              "      <td>NaN</td>\n",
              "      <td>0</td>\n",
              "      <td>minutes</td>\n",
              "      <td>9 minutes</td>\n",
              "      <td>NaN</td>\n",
              "      <td>NaN</td>\n",
              "      <td>2,163 followers</td>\n",
              "      <td>NaN</td>\n",
              "      <td>About the job Job Title: Shopify Developer (In...</td>\n",
              "      <td>0</td>\n",
              "      <td>0</td>\n",
              "    </tr>\n",
              "    <tr>\n",
              "      <th>23</th>\n",
              "      <td>3471878927</td>\n",
              "      <td>Spotfire Developer</td>\n",
              "      <td>Bengaluru, Karnataka, India</td>\n",
              "      <td>Experis India</td>\n",
              "      <td>On-site</td>\n",
              "      <td>Full-time</td>\n",
              "      <td>1001-5000</td>\n",
              "      <td>hours</td>\n",
              "      <td>10 hours</td>\n",
              "      <td>3 company alumni</td>\n",
              "      <td>Shivani MB</td>\n",
              "      <td>29,076 followers</td>\n",
              "      <td>https://www.linkedin.com/in/shivani-mb-806788145</td>\n",
              "      <td>About the job Responsibilities Role : Spotfire...</td>\n",
              "      <td>1001</td>\n",
              "      <td>5000</td>\n",
              "    </tr>\n",
              "    <tr>\n",
              "      <th>30</th>\n",
              "      <td>3472851497</td>\n",
              "      <td>ssrs</td>\n",
              "      <td>Mumbai, Maharashtra, India</td>\n",
              "      <td>GenXHire Services Private Limited</td>\n",
              "      <td>On-site</td>\n",
              "      <td>Full-time</td>\n",
              "      <td>51-200</td>\n",
              "      <td>hours</td>\n",
              "      <td>4 hours</td>\n",
              "      <td>NaN</td>\n",
              "      <td>Suraj Nayak</td>\n",
              "      <td>NaN</td>\n",
              "      <td>https://www.linkedin.com/in/suraj-nayak-b79b8124b</td>\n",
              "      <td>About the job Responsibilities:• Individual co...</td>\n",
              "      <td>51</td>\n",
              "      <td>200</td>\n",
              "    </tr>\n",
              "    <tr>\n",
              "      <th>44</th>\n",
              "      <td>3467835536</td>\n",
              "      <td>TIBCO BW5 Development</td>\n",
              "      <td>India</td>\n",
              "      <td>SRIK Consulting Services Pvt Ltd</td>\n",
              "      <td>Remote</td>\n",
              "      <td>Full-time</td>\n",
              "      <td>11-50</td>\n",
              "      <td>minutes</td>\n",
              "      <td>37 minutes</td>\n",
              "      <td>1 company alumni</td>\n",
              "      <td>SRIK Consulting Services Pvt Ltd</td>\n",
              "      <td>1,172 followers</td>\n",
              "      <td>https://www.linkedin.com/in/srik-consulting</td>\n",
              "      <td>About the job Position / Designation: Tibco BW...</td>\n",
              "      <td>11</td>\n",
              "      <td>50</td>\n",
              "    </tr>\n",
              "    <tr>\n",
              "      <th>49</th>\n",
              "      <td>3474814865</td>\n",
              "      <td>Sr. PHP/Laravel Developer</td>\n",
              "      <td>Kochi, Kerala, India</td>\n",
              "      <td>Chris Johnson Business IT Solutions</td>\n",
              "      <td>NaN</td>\n",
              "      <td>Full-time</td>\n",
              "      <td>51-200</td>\n",
              "      <td>hours</td>\n",
              "      <td>4 hours</td>\n",
              "      <td>NaN</td>\n",
              "      <td>Chris Johnson</td>\n",
              "      <td>42 followers</td>\n",
              "      <td>https://www.linkedin.com/in/chris-johnson-0257...</td>\n",
              "      <td>About the job Job descriptionChris Johnson Bus...</td>\n",
              "      <td>51</td>\n",
              "      <td>200</td>\n",
              "    </tr>\n",
              "    <tr>\n",
              "      <th>...</th>\n",
              "      <td>...</td>\n",
              "      <td>...</td>\n",
              "      <td>...</td>\n",
              "      <td>...</td>\n",
              "      <td>...</td>\n",
              "      <td>...</td>\n",
              "      <td>...</td>\n",
              "      <td>...</td>\n",
              "      <td>...</td>\n",
              "      <td>...</td>\n",
              "      <td>...</td>\n",
              "      <td>...</td>\n",
              "      <td>...</td>\n",
              "      <td>...</td>\n",
              "      <td>...</td>\n",
              "      <td>...</td>\n",
              "    </tr>\n",
              "    <tr>\n",
              "      <th>7556</th>\n",
              "      <td>3464527383</td>\n",
              "      <td>Sap Finance Control Consultant</td>\n",
              "      <td>Chennai, Tamil Nadu, India</td>\n",
              "      <td>Tata Consultancy Services</td>\n",
              "      <td>On-site</td>\n",
              "      <td>Full-time · Associate</td>\n",
              "      <td>10001</td>\n",
              "      <td>days</td>\n",
              "      <td>3 days</td>\n",
              "      <td>10,080 company alumni</td>\n",
              "      <td>Linu James</td>\n",
              "      <td>11,923,043 followers</td>\n",
              "      <td>https://www.linkedin.com/in/linu-james-731a6b149</td>\n",
              "      <td>About the job Greetings from TCS !!! TATA CONS...</td>\n",
              "      <td>0</td>\n",
              "      <td>10001</td>\n",
              "    </tr>\n",
              "    <tr>\n",
              "      <th>7557</th>\n",
              "      <td>3459365095</td>\n",
              "      <td>Inside Sales Executive | Digital Refresh Networks</td>\n",
              "      <td>Mumbai, Maharashtra, India</td>\n",
              "      <td>Digital Refresh Networks</td>\n",
              "      <td>On-site</td>\n",
              "      <td>Full-time · Executive</td>\n",
              "      <td>51-200</td>\n",
              "      <td>days</td>\n",
              "      <td>6 days</td>\n",
              "      <td>NaN</td>\n",
              "      <td>Aamir H</td>\n",
              "      <td>7,910 followers</td>\n",
              "      <td>https://www.linkedin.com/in/aamir-h-81355b1b4</td>\n",
              "      <td>About the job Company Profile:We (https://www....</td>\n",
              "      <td>51</td>\n",
              "      <td>200</td>\n",
              "    </tr>\n",
              "    <tr>\n",
              "      <th>7558</th>\n",
              "      <td>3459759470</td>\n",
              "      <td>Digital Marketing Executive/Manager</td>\n",
              "      <td>Hyderabad, Telangana, India</td>\n",
              "      <td>KOVIDA LIMITED</td>\n",
              "      <td>On-site</td>\n",
              "      <td>Full-time</td>\n",
              "      <td>51-200</td>\n",
              "      <td>days</td>\n",
              "      <td>5 days</td>\n",
              "      <td>NaN</td>\n",
              "      <td>eksaq lms</td>\n",
              "      <td>1,603 followers</td>\n",
              "      <td>https://www.linkedin.com/in/eksaq-lms-95a1131b7</td>\n",
              "      <td>About the job Digital marketing executive/Mana...</td>\n",
              "      <td>51</td>\n",
              "      <td>200</td>\n",
              "    </tr>\n",
              "    <tr>\n",
              "      <th>7560</th>\n",
              "      <td>3468727380</td>\n",
              "      <td>Technical Lead</td>\n",
              "      <td>Pune, Maharashtra, India</td>\n",
              "      <td>Atos</td>\n",
              "      <td>Hybrid</td>\n",
              "      <td>Full-time · Mid-Senior level</td>\n",
              "      <td>10001</td>\n",
              "      <td>days</td>\n",
              "      <td>2 days</td>\n",
              "      <td>2,241 company alumni</td>\n",
              "      <td>Sonali Borkar</td>\n",
              "      <td>NaN</td>\n",
              "      <td>https://www.linkedin.com/in/sonali-borkar-2049...</td>\n",
              "      <td>About the job ATOS is Hiring Immediate Joiners...</td>\n",
              "      <td>0</td>\n",
              "      <td>10001</td>\n",
              "    </tr>\n",
              "    <tr>\n",
              "      <th>7561</th>\n",
              "      <td>3469556452</td>\n",
              "      <td>Servicenow Architect</td>\n",
              "      <td>Pune, Maharashtra, India</td>\n",
              "      <td>Hexaware Technologies</td>\n",
              "      <td>Hybrid</td>\n",
              "      <td>Full-time</td>\n",
              "      <td>10001</td>\n",
              "      <td>day</td>\n",
              "      <td>1 day</td>\n",
              "      <td>360 company alumni</td>\n",
              "      <td>Prashanth R</td>\n",
              "      <td>745,415 followers</td>\n",
              "      <td>https://www.linkedin.com/in/prashanth-r-29a190112</td>\n",
              "      <td>About the job Position - Servicenow ArchitectL...</td>\n",
              "      <td>0</td>\n",
              "      <td>10001</td>\n",
              "    </tr>\n",
              "  </tbody>\n",
              "</table>\n",
              "<p>3278 rows × 16 columns</p>\n",
              "</div>\n",
              "    <div class=\"colab-df-buttons\">\n",
              "\n",
              "  <div class=\"colab-df-container\">\n",
              "    <button class=\"colab-df-convert\" onclick=\"convertToInteractive('df-3ac775d2-209b-4c10-9c2a-0dd0d8fdd63b')\"\n",
              "            title=\"Convert this dataframe to an interactive table.\"\n",
              "            style=\"display:none;\">\n",
              "\n",
              "  <svg xmlns=\"http://www.w3.org/2000/svg\" height=\"24px\" viewBox=\"0 -960 960 960\">\n",
              "    <path d=\"M120-120v-720h720v720H120Zm60-500h600v-160H180v160Zm220 220h160v-160H400v160Zm0 220h160v-160H400v160ZM180-400h160v-160H180v160Zm440 0h160v-160H620v160ZM180-180h160v-160H180v160Zm440 0h160v-160H620v160Z\"/>\n",
              "  </svg>\n",
              "    </button>\n",
              "\n",
              "  <style>\n",
              "    .colab-df-container {\n",
              "      display:flex;\n",
              "      gap: 12px;\n",
              "    }\n",
              "\n",
              "    .colab-df-convert {\n",
              "      background-color: #E8F0FE;\n",
              "      border: none;\n",
              "      border-radius: 50%;\n",
              "      cursor: pointer;\n",
              "      display: none;\n",
              "      fill: #1967D2;\n",
              "      height: 32px;\n",
              "      padding: 0 0 0 0;\n",
              "      width: 32px;\n",
              "    }\n",
              "\n",
              "    .colab-df-convert:hover {\n",
              "      background-color: #E2EBFA;\n",
              "      box-shadow: 0px 1px 2px rgba(60, 64, 67, 0.3), 0px 1px 3px 1px rgba(60, 64, 67, 0.15);\n",
              "      fill: #174EA6;\n",
              "    }\n",
              "\n",
              "    .colab-df-buttons div {\n",
              "      margin-bottom: 4px;\n",
              "    }\n",
              "\n",
              "    [theme=dark] .colab-df-convert {\n",
              "      background-color: #3B4455;\n",
              "      fill: #D2E3FC;\n",
              "    }\n",
              "\n",
              "    [theme=dark] .colab-df-convert:hover {\n",
              "      background-color: #434B5C;\n",
              "      box-shadow: 0px 1px 3px 1px rgba(0, 0, 0, 0.15);\n",
              "      filter: drop-shadow(0px 1px 2px rgba(0, 0, 0, 0.3));\n",
              "      fill: #FFFFFF;\n",
              "    }\n",
              "  </style>\n",
              "\n",
              "    <script>\n",
              "      const buttonEl =\n",
              "        document.querySelector('#df-3ac775d2-209b-4c10-9c2a-0dd0d8fdd63b button.colab-df-convert');\n",
              "      buttonEl.style.display =\n",
              "        google.colab.kernel.accessAllowed ? 'block' : 'none';\n",
              "\n",
              "      async function convertToInteractive(key) {\n",
              "        const element = document.querySelector('#df-3ac775d2-209b-4c10-9c2a-0dd0d8fdd63b');\n",
              "        const dataTable =\n",
              "          await google.colab.kernel.invokeFunction('convertToInteractive',\n",
              "                                                    [key], {});\n",
              "        if (!dataTable) return;\n",
              "\n",
              "        const docLinkHtml = 'Like what you see? Visit the ' +\n",
              "          '<a target=\"_blank\" href=https://colab.research.google.com/notebooks/data_table.ipynb>data table notebook</a>'\n",
              "          + ' to learn more about interactive tables.';\n",
              "        element.innerHTML = '';\n",
              "        dataTable['output_type'] = 'display_data';\n",
              "        await google.colab.output.renderOutput(dataTable, element);\n",
              "        const docLink = document.createElement('div');\n",
              "        docLink.innerHTML = docLinkHtml;\n",
              "        element.appendChild(docLink);\n",
              "      }\n",
              "    </script>\n",
              "  </div>\n",
              "\n",
              "\n",
              "<div id=\"df-c14ea7ca-b7c0-48ca-9104-5d8d0ea076ba\">\n",
              "  <button class=\"colab-df-quickchart\" onclick=\"quickchart('df-c14ea7ca-b7c0-48ca-9104-5d8d0ea076ba')\"\n",
              "            title=\"Suggest charts\"\n",
              "            style=\"display:none;\">\n",
              "\n",
              "<svg xmlns=\"http://www.w3.org/2000/svg\" height=\"24px\"viewBox=\"0 0 24 24\"\n",
              "     width=\"24px\">\n",
              "    <g>\n",
              "        <path d=\"M19 3H5c-1.1 0-2 .9-2 2v14c0 1.1.9 2 2 2h14c1.1 0 2-.9 2-2V5c0-1.1-.9-2-2-2zM9 17H7v-7h2v7zm4 0h-2V7h2v10zm4 0h-2v-4h2v4z\"/>\n",
              "    </g>\n",
              "</svg>\n",
              "  </button>\n",
              "\n",
              "<style>\n",
              "  .colab-df-quickchart {\n",
              "      --bg-color: #E8F0FE;\n",
              "      --fill-color: #1967D2;\n",
              "      --hover-bg-color: #E2EBFA;\n",
              "      --hover-fill-color: #174EA6;\n",
              "      --disabled-fill-color: #AAA;\n",
              "      --disabled-bg-color: #DDD;\n",
              "  }\n",
              "\n",
              "  [theme=dark] .colab-df-quickchart {\n",
              "      --bg-color: #3B4455;\n",
              "      --fill-color: #D2E3FC;\n",
              "      --hover-bg-color: #434B5C;\n",
              "      --hover-fill-color: #FFFFFF;\n",
              "      --disabled-bg-color: #3B4455;\n",
              "      --disabled-fill-color: #666;\n",
              "  }\n",
              "\n",
              "  .colab-df-quickchart {\n",
              "    background-color: var(--bg-color);\n",
              "    border: none;\n",
              "    border-radius: 50%;\n",
              "    cursor: pointer;\n",
              "    display: none;\n",
              "    fill: var(--fill-color);\n",
              "    height: 32px;\n",
              "    padding: 0;\n",
              "    width: 32px;\n",
              "  }\n",
              "\n",
              "  .colab-df-quickchart:hover {\n",
              "    background-color: var(--hover-bg-color);\n",
              "    box-shadow: 0 1px 2px rgba(60, 64, 67, 0.3), 0 1px 3px 1px rgba(60, 64, 67, 0.15);\n",
              "    fill: var(--button-hover-fill-color);\n",
              "  }\n",
              "\n",
              "  .colab-df-quickchart-complete:disabled,\n",
              "  .colab-df-quickchart-complete:disabled:hover {\n",
              "    background-color: var(--disabled-bg-color);\n",
              "    fill: var(--disabled-fill-color);\n",
              "    box-shadow: none;\n",
              "  }\n",
              "\n",
              "  .colab-df-spinner {\n",
              "    border: 2px solid var(--fill-color);\n",
              "    border-color: transparent;\n",
              "    border-bottom-color: var(--fill-color);\n",
              "    animation:\n",
              "      spin 1s steps(1) infinite;\n",
              "  }\n",
              "\n",
              "  @keyframes spin {\n",
              "    0% {\n",
              "      border-color: transparent;\n",
              "      border-bottom-color: var(--fill-color);\n",
              "      border-left-color: var(--fill-color);\n",
              "    }\n",
              "    20% {\n",
              "      border-color: transparent;\n",
              "      border-left-color: var(--fill-color);\n",
              "      border-top-color: var(--fill-color);\n",
              "    }\n",
              "    30% {\n",
              "      border-color: transparent;\n",
              "      border-left-color: var(--fill-color);\n",
              "      border-top-color: var(--fill-color);\n",
              "      border-right-color: var(--fill-color);\n",
              "    }\n",
              "    40% {\n",
              "      border-color: transparent;\n",
              "      border-right-color: var(--fill-color);\n",
              "      border-top-color: var(--fill-color);\n",
              "    }\n",
              "    60% {\n",
              "      border-color: transparent;\n",
              "      border-right-color: var(--fill-color);\n",
              "    }\n",
              "    80% {\n",
              "      border-color: transparent;\n",
              "      border-right-color: var(--fill-color);\n",
              "      border-bottom-color: var(--fill-color);\n",
              "    }\n",
              "    90% {\n",
              "      border-color: transparent;\n",
              "      border-bottom-color: var(--fill-color);\n",
              "    }\n",
              "  }\n",
              "</style>\n",
              "\n",
              "  <script>\n",
              "    async function quickchart(key) {\n",
              "      const quickchartButtonEl =\n",
              "        document.querySelector('#' + key + ' button');\n",
              "      quickchartButtonEl.disabled = true;  // To prevent multiple clicks.\n",
              "      quickchartButtonEl.classList.add('colab-df-spinner');\n",
              "      try {\n",
              "        const charts = await google.colab.kernel.invokeFunction(\n",
              "            'suggestCharts', [key], {});\n",
              "      } catch (error) {\n",
              "        console.error('Error during call to suggestCharts:', error);\n",
              "      }\n",
              "      quickchartButtonEl.classList.remove('colab-df-spinner');\n",
              "      quickchartButtonEl.classList.add('colab-df-quickchart-complete');\n",
              "    }\n",
              "    (() => {\n",
              "      let quickchartButtonEl =\n",
              "        document.querySelector('#df-c14ea7ca-b7c0-48ca-9104-5d8d0ea076ba button');\n",
              "      quickchartButtonEl.style.display =\n",
              "        google.colab.kernel.accessAllowed ? 'block' : 'none';\n",
              "    })();\n",
              "  </script>\n",
              "</div>\n",
              "\n",
              "    </div>\n",
              "  </div>\n"
            ],
            "application/vnd.google.colaboratory.intrinsic+json": {
              "type": "dataframe",
              "summary": "{\n  \"name\": \"df[df['no_of_application']\",\n  \"rows\": 3278,\n  \"fields\": [\n    {\n      \"column\": \"job_ID\",\n      \"properties\": {\n        \"dtype\": \"number\",\n        \"std\": 49268344,\n        \"min\": 1607578529,\n        \"max\": 3477698122,\n        \"num_unique_values\": 3278,\n        \"samples\": [\n          3476408010,\n          3476401197,\n          3476409319\n        ],\n        \"semantic_type\": \"\",\n        \"description\": \"\"\n      }\n    },\n    {\n      \"column\": \"job\",\n      \"properties\": {\n        \"dtype\": \"category\",\n        \"num_unique_values\": 1560,\n        \"samples\": [\n          \"Oracle Functional Consultant\",\n          \"Adobe Experience Platform Developer Lead\",\n          \"node js Developer\"\n        ],\n        \"semantic_type\": \"\",\n        \"description\": \"\"\n      }\n    },\n    {\n      \"column\": \"location\",\n      \"properties\": {\n        \"dtype\": \"category\",\n        \"num_unique_values\": 114,\n        \"samples\": [\n          \"Punjab, India\",\n          \"Kochi, Kerala, India\",\n          \"Thiruvarur, Tamil Nadu, India\"\n        ],\n        \"semantic_type\": \"\",\n        \"description\": \"\"\n      }\n    },\n    {\n      \"column\": \"company_name\",\n      \"properties\": {\n        \"dtype\": \"category\",\n        \"num_unique_values\": 1324,\n        \"samples\": [\n          \"A2RS Consultancy\",\n          \"Gamaka AI\",\n          \"CUR8\"\n        ],\n        \"semantic_type\": \"\",\n        \"description\": \"\"\n      }\n    },\n    {\n      \"column\": \"work_type\",\n      \"properties\": {\n        \"dtype\": \"category\",\n        \"num_unique_values\": 3,\n        \"samples\": [\n          \"Hybrid\",\n          \"On-site\",\n          \"Remote\"\n        ],\n        \"semantic_type\": \"\",\n        \"description\": \"\"\n      }\n    },\n    {\n      \"column\": \"full_time_remote\",\n      \"properties\": {\n        \"dtype\": \"category\",\n        \"num_unique_values\": 18,\n        \"samples\": [\n          \"Full-time\",\n          \"Full-time \\u00b7 Mid-Senior level\",\n          \"Full-time \\u00b7 Director\"\n        ],\n        \"semantic_type\": \"\",\n        \"description\": \"\"\n      }\n    },\n    {\n      \"column\": \"no_of_employ\",\n      \"properties\": {\n        \"dtype\": \"category\",\n        \"num_unique_values\": 9,\n        \"samples\": [\n          \"1-10 \",\n          \"1001-5000 \",\n          \"10001 \"\n        ],\n        \"semantic_type\": \"\",\n        \"description\": \"\"\n      }\n    },\n    {\n      \"column\": \"no_of_application\",\n      \"properties\": {\n        \"dtype\": \"category\",\n        \"num_unique_values\": 7,\n        \"samples\": [\n          \"minutes\",\n          \"hours\",\n          \"seconds\"\n        ],\n        \"semantic_type\": \"\",\n        \"description\": \"\"\n      }\n    },\n    {\n      \"column\": \"posted_day_ago\",\n      \"properties\": {\n        \"dtype\": \"category\",\n        \"num_unique_values\": 85,\n        \"samples\": [\n          \"3 minutes\",\n          \"9 minutes\",\n          \"46 minutes\"\n        ],\n        \"semantic_type\": \"\",\n        \"description\": \"\"\n      }\n    },\n    {\n      \"column\": \"alumni\",\n      \"properties\": {\n        \"dtype\": \"category\",\n        \"num_unique_values\": 132,\n        \"samples\": [\n          \"27 company alumni\",\n          \"314 company alumni\",\n          \"51 company alumni\"\n        ],\n        \"semantic_type\": \"\",\n        \"description\": \"\"\n      }\n    },\n    {\n      \"column\": \"Hiring_person\",\n      \"properties\": {\n        \"dtype\": \"category\",\n        \"num_unique_values\": 1376,\n        \"samples\": [\n          \"Aravind B J\",\n          \"Bhavna Yadav\",\n          \"Jagriti Vyas\"\n        ],\n        \"semantic_type\": \"\",\n        \"description\": \"\"\n      }\n    },\n    {\n      \"column\": \"linkedin_followers\",\n      \"properties\": {\n        \"dtype\": \"category\",\n        \"num_unique_values\": 1542,\n        \"samples\": [\n          \"357 followers\",\n          \"449,911 followers\",\n          \"450,071 followers\"\n        ],\n        \"semantic_type\": \"\",\n        \"description\": \"\"\n      }\n    },\n    {\n      \"column\": \"hiring_person_link\",\n      \"properties\": {\n        \"dtype\": \"category\",\n        \"num_unique_values\": 1379,\n        \"samples\": [\n          \"https://www.linkedin.com/in/amol-divakaran-196752a9\",\n          \"https://www.linkedin.com/in/akshatha-ks-93645551\",\n          \"https://www.linkedin.com/in/prashant-patil-146557255\"\n        ],\n        \"semantic_type\": \"\",\n        \"description\": \"\"\n      }\n    },\n    {\n      \"column\": \"job_details\",\n      \"properties\": {\n        \"dtype\": \"string\",\n        \"num_unique_values\": 2366,\n        \"samples\": [\n          \"About the job Purpose: Assist the Pricing and Portfolio management team with their data related requirements. Duties And Responsibilities Responsible for Motor insurance data analysis, report generation and insight sharingContribute to data strategies to drive automation initiatives with respect to Motor portfolioDevelop smart dashboard to track profitable segments and cohortsIncrease the level of sophisticated information available to pricing, underwriting, sales & distribution, claims and managementForecast and monitor portfolio profitability and suggest corrective actions if required on monthly basisEnsure accuracy of reports publishedWork towards automate reporting and various underwriting activities and processesUnderstand, produce and evaluate management Information, claims, financial results and actuarial reportsSupport and develop underwriting training to team members and to market facing colleaguesOther duties and projects as assigned. Specialized skills, competencies, qualifications and experience Post graduate with relevant experience in general insurance (preferably in Motor insurance) Highly developed analytical skills and good understanding of financial metrics (KPI\\u2019s) Past experience of generating loss ratio reports (is preferred) or forecasting models Working and hands on knowledge of Python / R Studio to synthesize large data sets (beyond traditional excel capabilities). Data to the tune of minimum 5 million transactional records on a monthly basis Good communication and presentation skills Result and delivery focused\",\n          \"About the job Experience : 3+ Years Work location : Bangalore Platform TestJob Description You will join the team focused on definition and implementation of the overall testing strategy for a new accelerator card. This will include defining test for software/firmware features, enable automated executing and reporting, analysis of bugs and system level testing using cloud server platform. You will work closely with development and architecture team to understand product features and define test plans and solutions needed to deliver production grade software/firmware to the end customer. You will be collaborating with a variety of internal teams within Qualcomm covering multiple engineering disciplines including software, systems, and hardware. The successful applicant should have a diverse skill set and a strong background in testing and automation strategies. Required Skills and AptitudesExperience with scripting languages, including Python & Shell Scripting.Test experience at both the firmware (RTOS) and system-level (Linux) in SOC and/or Server solutionsExperience defining tests plans/strategy and test automation solutionsStrong debugging and analysis skills, for root causing complex issues on embedded platformExperience of working on Hypervisor and VirtualizationWillingness to work in a high-calibre mixed software/firmware development teamExcellent English communication (written and verbal) and interpersonal skills Desirable Skills and AptitudesExperience with software version control systemsExperience of working on Video compression techniques like H.264/H.265Experience of working on neural networks using popular machine learning frameworksExperience with Lauterbach/T32 & its programming language Practice Min Experience:3 years\\u2019 experience in DevelopmentMaster\\u2019s or Bachelor\\u2019s in Computer Science or Electronics & Communication\",\n          \"About the job At Dario, Every Day is a New Opportunity to Make a Difference. We are on a mission to make better health easy. Every day our employees contribute to this mission and help hundreds of thousands of people around the globe improve their health. How cool is that? We are looking for passionate, smart, and collaborative people who have a desire to do something meaningful and impactful in their career. DarioHealth is looking for an experienced Data Engineer who will join our team and create new data solutions, maintain existing solutions and be a focal point of all technical aspects of our data activity. As part of this position, you will develop advanced data and analytics solutions to support our analysts and production units with validated and reliable data. Responsibilities Develop and maintain DarioHealth data infrastructure. Develop in-house applications for providing self-service tools. Develop real-time data applications for production. Provide analysts and data scientists technical support related to data infrastructure. Design, build and launch new data models and visualizations in production, leveraging common development toolkits. REQUIREMENTSAt least 4 years of proven experience with Python - a must. Very high level of SQL and data warehouse modeling. Experience with 24/7 systems and real-time analytics. Experience developing data pipelines with Airflow or similar - a must Experience with big data solutions like Kinesis/Sparks - an advantageExperience with NoSQL databases like MongoDB/Redis. Experience with web development using Django/javascript/react - an advantage. Experience in the online industry. B.A./B.Sc. in industrial/information systems engineering, computer science, statistics, or equivalent. ***DarioHealth promotes diversity of thought, culture and background, which connects the entire Dario team. We believe that every member on our team enriches our diversity by exposing us to a broad range of ways to understand and engage with the world, identify challenges, and to discover, design and deliver solutions. We are passionate about building and sustaining an inclusive and equitable working and learning environments for all people, and do not discriminate against any employee or job candidate.***\"\n        ],\n        \"semantic_type\": \"\",\n        \"description\": \"\"\n      }\n    },\n    {\n      \"column\": \"min_employ\",\n      \"properties\": {\n        \"dtype\": \"number\",\n        \"std\": 777,\n        \"min\": 0,\n        \"max\": 5001,\n        \"num_unique_values\": 8,\n        \"samples\": [\n          1001,\n          201,\n          0\n        ],\n        \"semantic_type\": \"\",\n        \"description\": \"\"\n      }\n    },\n    {\n      \"column\": \"max_employ\",\n      \"properties\": {\n        \"dtype\": \"number\",\n        \"std\": 3315,\n        \"min\": 0,\n        \"max\": 10001,\n        \"num_unique_values\": 9,\n        \"samples\": [\n          10,\n          5000,\n          10001\n        ],\n        \"semantic_type\": \"\",\n        \"description\": \"\"\n      }\n    }\n  ]\n}"
            }
          },
          "metadata": {},
          "execution_count": 36
        }
      ]
    },
    {
      "cell_type": "code",
      "source": [
        "# Menghitung jumlah data yang bukan angka\n",
        "df[df['no_of_application'].str.isnumeric()==False].shape[0]"
      ],
      "metadata": {
        "colab": {
          "base_uri": "https://localhost:8080/"
        },
        "id": "gu7hzxs7Q_l1",
        "outputId": "a06fc503-1eb6-4814-addc-aeb943fb3954"
      },
      "execution_count": null,
      "outputs": [
        {
          "output_type": "execute_result",
          "data": {
            "text/plain": [
              "3278"
            ]
          },
          "metadata": {},
          "execution_count": 37
        }
      ]
    },
    {
      "cell_type": "code",
      "source": [
        "df['no_of_application'].unique()"
      ],
      "metadata": {
        "id": "hMGiFs3yJW-0",
        "colab": {
          "base_uri": "https://localhost:8080/"
        },
        "outputId": "d4a1aed0-9622-448d-a976-d26f51ac5a56"
      },
      "execution_count": null,
      "outputs": [
        {
          "output_type": "execute_result",
          "data": {
            "text/plain": [
              "array(['200', '184', '8', '2', '7', 'minutes', '22', '111', '36', '44',\n",
              "       '29', '4', '19', '14', '13', '32', '20', 'hours', '5', '21', '27',\n",
              "       '85', '97', '42', '3', '1', '130', '127', '11', '16', '60', '17',\n",
              "       '52', '50', '10', '61', '95', '39', '18', '6', '40', '138', '9',\n",
              "       '26', '78', '47', '104', '15', '110', '25', '38', '122', '34',\n",
              "       '149', '83', '57', '66', '56', '80', '135', '158', '139', '54',\n",
              "       '28', '23', '12', '175', '35', '87', '109', '71', '70', '24', '96',\n",
              "       '48', '103', '31', 'days', '68', '147', 'day', '65', nan, '59',\n",
              "       '102', '53', '125', '143', '142', '150', '195', '160', '99', '112',\n",
              "       '67', '74', '134', '43', '98', '146', '55', '115', '108', '176',\n",
              "       '113', '30', '76', '72', '129', '100', '172', 'hour', '51',\n",
              "       'seconds', '79', '69', '46', '132', '114', '136', '117', '106',\n",
              "       '173', '73', '174', '145', '84', '190', '77', '81', '33', '166',\n",
              "       '164', '163', '94', '128', '161', '194', '152', '159', '137', '88',\n",
              "       '162', '177', '105', '41', '49', '133', '187', '82', '123', '193',\n",
              "       '91', '148', '45', '141', '58', '62', '198', '124', '93', '168',\n",
              "       '64', '140', '86', '126', '155', '169', '192', 'minute', '116',\n",
              "       '185', '156', '165', '170', '120', '180', '191', '101', '196',\n",
              "       '118', '181', '189', '90', '153', '171', '75', '37', '89', '197',\n",
              "       '107', '63', '131', '167', '92', '121', '186', '183', '119'],\n",
              "      dtype=object)"
            ]
          },
          "metadata": {},
          "execution_count": 38
        }
      ]
    },
    {
      "cell_type": "code",
      "source": [
        "# Mengubah data ke numerik dengan mengabaikan nilai selain numerik\n",
        "df['no_of_application'] = pd.to_numeric(df['no_of_application'], errors='coerce')"
      ],
      "metadata": {
        "id": "vgAhkQWxcaH3"
      },
      "execution_count": null,
      "outputs": []
    },
    {
      "cell_type": "code",
      "source": [
        "df['no_of_application'].unique()"
      ],
      "metadata": {
        "colab": {
          "base_uri": "https://localhost:8080/"
        },
        "id": "0Ol0lFyRqfmi",
        "outputId": "af8d0fb5-f3bf-4482-c976-a51d8a7acf80"
      },
      "execution_count": null,
      "outputs": [
        {
          "output_type": "execute_result",
          "data": {
            "text/plain": [
              "array([200., 184.,   8.,   2.,   7.,  nan,  22., 111.,  36.,  44.,  29.,\n",
              "         4.,  19.,  14.,  13.,  32.,  20.,   5.,  21.,  27.,  85.,  97.,\n",
              "        42.,   3.,   1., 130., 127.,  11.,  16.,  60.,  17.,  52.,  50.,\n",
              "        10.,  61.,  95.,  39.,  18.,   6.,  40., 138.,   9.,  26.,  78.,\n",
              "        47., 104.,  15., 110.,  25.,  38., 122.,  34., 149.,  83.,  57.,\n",
              "        66.,  56.,  80., 135., 158., 139.,  54.,  28.,  23.,  12., 175.,\n",
              "        35.,  87., 109.,  71.,  70.,  24.,  96.,  48., 103.,  31.,  68.,\n",
              "       147.,  65.,  59., 102.,  53., 125., 143., 142., 150., 195., 160.,\n",
              "        99., 112.,  67.,  74., 134.,  43.,  98., 146.,  55., 115., 108.,\n",
              "       176., 113.,  30.,  76.,  72., 129., 100., 172.,  51.,  79.,  69.,\n",
              "        46., 132., 114., 136., 117., 106., 173.,  73., 174., 145.,  84.,\n",
              "       190.,  77.,  81.,  33., 166., 164., 163.,  94., 128., 161., 194.,\n",
              "       152., 159., 137.,  88., 162., 177., 105.,  41.,  49., 133., 187.,\n",
              "        82., 123., 193.,  91., 148.,  45., 141.,  58.,  62., 198., 124.,\n",
              "        93., 168.,  64., 140.,  86., 126., 155., 169., 192., 116., 185.,\n",
              "       156., 165., 170., 120., 180., 191., 101., 196., 118., 181., 189.,\n",
              "        90., 153., 171.,  75.,  37.,  89., 197., 107.,  63., 131., 167.,\n",
              "        92., 121., 186., 183., 119.])"
            ]
          },
          "metadata": {},
          "execution_count": 40
        }
      ]
    },
    {
      "cell_type": "markdown",
      "source": [
        "## Pendekatan dengan melakukan drop nilai nan"
      ],
      "metadata": {
        "id": "tbsNLfCIT2JM"
      }
    },
    {
      "cell_type": "code",
      "source": [
        "# Drop nan\n",
        "df_drop_nan = df.dropna(subset=['no_of_application'])\n",
        "df_drop_nan['no_of_application'].unique()"
      ],
      "metadata": {
        "colab": {
          "base_uri": "https://localhost:8080/"
        },
        "id": "B27-438wT1qQ",
        "outputId": "b833220d-d960-4ef6-9fc8-72d33c8e5bb1"
      },
      "execution_count": null,
      "outputs": [
        {
          "output_type": "execute_result",
          "data": {
            "text/plain": [
              "array([200., 184.,   8.,   2.,   7.,  22., 111.,  36.,  44.,  29.,   4.,\n",
              "        19.,  14.,  13.,  32.,  20.,   5.,  21.,  27.,  85.,  97.,  42.,\n",
              "         3.,   1., 130., 127.,  11.,  16.,  60.,  17.,  52.,  50.,  10.,\n",
              "        61.,  95.,  39.,  18.,   6.,  40., 138.,   9.,  26.,  78.,  47.,\n",
              "       104.,  15., 110.,  25.,  38., 122.,  34., 149.,  83.,  57.,  66.,\n",
              "        56.,  80., 135., 158., 139.,  54.,  28.,  23.,  12., 175.,  35.,\n",
              "        87., 109.,  71.,  70.,  24.,  96.,  48., 103.,  31.,  68., 147.,\n",
              "        65.,  59., 102.,  53., 125., 143., 142., 150., 195., 160.,  99.,\n",
              "       112.,  67.,  74., 134.,  43.,  98., 146.,  55., 115., 108., 176.,\n",
              "       113.,  30.,  76.,  72., 129., 100., 172.,  51.,  79.,  69.,  46.,\n",
              "       132., 114., 136., 117., 106., 173.,  73., 174., 145.,  84., 190.,\n",
              "        77.,  81.,  33., 166., 164., 163.,  94., 128., 161., 194., 152.,\n",
              "       159., 137.,  88., 162., 177., 105.,  41.,  49., 133., 187.,  82.,\n",
              "       123., 193.,  91., 148.,  45., 141.,  58.,  62., 198., 124.,  93.,\n",
              "       168.,  64., 140.,  86., 126., 155., 169., 192., 116., 185., 156.,\n",
              "       165., 170., 120., 180., 191., 101., 196., 118., 181., 189.,  90.,\n",
              "       153., 171.,  75.,  37.,  89., 197., 107.,  63., 131., 167.,  92.,\n",
              "       121., 186., 183., 119.])"
            ]
          },
          "metadata": {},
          "execution_count": 41
        }
      ]
    },
    {
      "cell_type": "code",
      "source": [
        "# Visualisasi dengan histogram\n",
        "plt.figure(figsize=(10, 6))\n",
        "sns.histplot(df_drop_nan['no_of_application'], bins=20, kde=True)"
      ],
      "metadata": {
        "colab": {
          "base_uri": "https://localhost:8080/",
          "height": 559
        },
        "id": "zwJqGG74cvF8",
        "outputId": "0427277d-4fbb-4cf0-ac32-a11c8f28a7ae"
      },
      "execution_count": null,
      "outputs": [
        {
          "output_type": "execute_result",
          "data": {
            "text/plain": [
              "<Axes: xlabel='no_of_application', ylabel='Count'>"
            ]
          },
          "metadata": {},
          "execution_count": 42
        },
        {
          "output_type": "display_data",
          "data": {
            "text/plain": [
              "<Figure size 1000x600 with 1 Axes>"
            ],
            "image/png": "[encoded data removed]"
          },
          "metadata": {}
        }
      ]
    },
    {
      "cell_type": "markdown",
      "source": [
        "- Dari histogram diatas, kita bisa melihat bahwa data berpusat pada nilai yang rendah yaitu 0-25 dan juga bisa dilihat bahwa histogram ini menunjukan ditribusi data Skewness positif"
      ],
      "metadata": {
        "id": "KPvEgsNces6Q"
      }
    },
    {
      "cell_type": "code",
      "source": [
        "sns.boxplot(\n",
        "    data=df_drop_nan,\n",
        "    x=\"no_of_application\"\n",
        ")"
      ],
      "metadata": {
        "colab": {
          "base_uri": "https://localhost:8080/",
          "height": 467
        },
        "id": "EUbO3xU7wrc6",
        "outputId": "9dcf0dce-e6c6-4af5-e933-63868c5acb7c"
      },
      "execution_count": null,
      "outputs": [
        {
          "output_type": "execute_result",
          "data": {
            "text/plain": [
              "<Axes: xlabel='no_of_application'>"
            ]
          },
          "metadata": {},
          "execution_count": 43
        },
        {
          "output_type": "display_data",
          "data": {
            "text/plain": [
              "<Figure size 640x480 with 1 Axes>"
            ],
            "image/png": "[encoded data removed]"
          },
          "metadata": {}
        }
      ]
    },
    {
      "cell_type": "markdown",
      "source": [
        "- Dari boxplot di atas, terlihat beberapa outlier yang jelas di ujung kanan, yang menunjukkan nilai yang sangat tinggi."
      ],
      "metadata": {
        "id": "Y2FRwkSlfFNW"
      }
    },
    {
      "cell_type": "markdown",
      "source": [],
      "metadata": {
        "id": "r6ZgI0DweBV7"
      }
    },
    {
      "cell_type": "code",
      "source": [
        "df_drop_nan['no_of_application'].describe()"
      ],
      "metadata": {
        "colab": {
          "base_uri": "https://localhost:8080/",
          "height": 335
        },
        "id": "9Du04qoGqcz6",
        "outputId": "14b3cd28-14e2-4609-c217-25ab4e0dcdfa"
      },
      "execution_count": null,
      "outputs": [
        {
          "output_type": "execute_result",
          "data": {
            "text/plain": [
              "count    2532.000000\n",
              "mean       54.292259\n",
              "std        67.620527\n",
              "min         1.000000\n",
              "25%         6.000000\n",
              "50%        21.000000\n",
              "75%        78.000000\n",
              "max       200.000000\n",
              "Name: no_of_application, dtype: float64"
            ],
            "text/html": [
              "<div>\n",
              "<style scoped>\n",
              "    .dataframe tbody tr th:only-of-type {\n",
              "        vertical-align: middle;\n",
              "    }\n",
              "\n",
              "    .dataframe tbody tr th {\n",
              "        vertical-align: top;\n",
              "    }\n",
              "\n",
              "    .dataframe thead th {\n",
              "        text-align: right;\n",
              "    }\n",
              "</style>\n",
              "<table border=\"1\" class=\"dataframe\">\n",
              "  <thead>\n",
              "    <tr style=\"text-align: right;\">\n",
              "      <th></th>\n",
              "      <th>no_of_application</th>\n",
              "    </tr>\n",
              "  </thead>\n",
              "  <tbody>\n",
              "    <tr>\n",
              "      <th>count</th>\n",
              "      <td>2532.000000</td>\n",
              "    </tr>\n",
              "    <tr>\n",
              "      <th>mean</th>\n",
              "      <td>54.292259</td>\n",
              "    </tr>\n",
              "    <tr>\n",
              "      <th>std</th>\n",
              "      <td>67.620527</td>\n",
              "    </tr>\n",
              "    <tr>\n",
              "      <th>min</th>\n",
              "      <td>1.000000</td>\n",
              "    </tr>\n",
              "    <tr>\n",
              "      <th>25%</th>\n",
              "      <td>6.000000</td>\n",
              "    </tr>\n",
              "    <tr>\n",
              "      <th>50%</th>\n",
              "      <td>21.000000</td>\n",
              "    </tr>\n",
              "    <tr>\n",
              "      <th>75%</th>\n",
              "      <td>78.000000</td>\n",
              "    </tr>\n",
              "    <tr>\n",
              "      <th>max</th>\n",
              "      <td>200.000000</td>\n",
              "    </tr>\n",
              "  </tbody>\n",
              "</table>\n",
              "</div><br><label><b>dtype:</b> float64</label>"
            ]
          },
          "metadata": {},
          "execution_count": 44
        }
      ]
    },
    {
      "cell_type": "code",
      "source": [
        "# Menggunakan metode IQR\n",
        "Q1 = df_drop_nan['no_of_application'].quantile(0.25)\n",
        "Q3 = df_drop_nan['no_of_application'].quantile(0.75)\n",
        "IQR = Q3 - Q1\n",
        "\n",
        "# Mencari nilai outlier\n",
        "lower_bound = Q1 - 1.5 * IQR\n",
        "upper_bound = Q3 + 1.5 * IQR\n",
        "\n",
        "#Menentukan kondisi\n",
        "condition = (df_drop_nan['no_of_application'] >= lower_bound) & (df_drop_nan['no_of_application'] <= upper_bound)\n",
        "\n",
        "df_drop_nan = df_drop_nan[condition]\n",
        "\n",
        "#  menampilkan data oulier\n",
        "sns.boxplot(\n",
        "    data=df_drop_nan,\n",
        "    x=\"no_of_application\"\n",
        ")"
      ],
      "metadata": {
        "colab": {
          "base_uri": "https://localhost:8080/",
          "height": 467
        },
        "id": "p8fYkQShqisV",
        "outputId": "8ecef952-65ca-443c-e0e6-d0d5ef056695"
      },
      "execution_count": null,
      "outputs": [
        {
          "output_type": "execute_result",
          "data": {
            "text/plain": [
              "<Axes: xlabel='no_of_application'>"
            ]
          },
          "metadata": {},
          "execution_count": 45
        },
        {
          "output_type": "display_data",
          "data": {
            "text/plain": [
              "<Figure size 640x480 with 1 Axes>"
            ],
            "image/png": "[encoded data removed]"
          },
          "metadata": {}
        }
      ]
    },
    {
      "cell_type": "markdown",
      "source": [
        "- Boxplot setelah penanganan outlier menunjukkan bahwa tidak ada lagi outlier yang terdeteksi. Whiskers (garis batas atas dan bawah pada boxplot) sekarang berada dalam rentang yang lebih normal, dan distribusi terlihat lebih konsisten."
      ],
      "metadata": {
        "id": "56r4C_3gx4Cg"
      }
    },
    {
      "cell_type": "code",
      "source": [
        "# Visualisasi dengan histogram\n",
        "plt.figure(figsize=(10, 6))\n",
        "sns.histplot(df_drop_nan['no_of_application'], bins=20, kde=True)"
      ],
      "metadata": {
        "colab": {
          "base_uri": "https://localhost:8080/",
          "height": 559
        },
        "id": "IlONMjPDYps4",
        "outputId": "45d39054-86e4-442b-bb55-49d7a6b49782"
      },
      "execution_count": null,
      "outputs": [
        {
          "output_type": "execute_result",
          "data": {
            "text/plain": [
              "<Axes: xlabel='no_of_application', ylabel='Count'>"
            ]
          },
          "metadata": {},
          "execution_count": 46
        },
        {
          "output_type": "display_data",
          "data": {
            "text/plain": [
              "<Figure size 1000x600 with 1 Axes>"
            ],
            "image/png": "[encoded data removed]"
          },
          "metadata": {}
        }
      ]
    },
    {
      "cell_type": "markdown",
      "source": [
        "- Setelah outliernya dihapus menggunakan metode IQR, hasil histogramnya menjadi lebih seimbang. Kemudian distribusi datanya yang sekarang lebih terpusat di sekitar nilai yang lebih rendah, dan skewness berkurang karena outlier di bagian kanan telah dihilangkan sehingga distrbusi datanya lebih seimbang."
      ],
      "metadata": {
        "id": "aL1sQohgwpCa"
      }
    },
    {
      "cell_type": "markdown",
      "source": [
        "## Pendekatan dengan mengisi nilai nan dengan median"
      ],
      "metadata": {
        "id": "z3Hgk3Z82hEW"
      }
    },
    {
      "cell_type": "code",
      "source": [
        "df_median = df.copy()\n",
        "df_median['no_of_application'].unique()"
      ],
      "metadata": {
        "id": "7vpwtUN9oHsJ",
        "colab": {
          "base_uri": "https://localhost:8080/"
        },
        "outputId": "6bf985d1-6fa1-48be-c93d-545801b78a8d"
      },
      "execution_count": null,
      "outputs": [
        {
          "output_type": "execute_result",
          "data": {
            "text/plain": [
              "array([200., 184.,   8.,   2.,   7.,  nan,  22., 111.,  36.,  44.,  29.,\n",
              "         4.,  19.,  14.,  13.,  32.,  20.,   5.,  21.,  27.,  85.,  97.,\n",
              "        42.,   3.,   1., 130., 127.,  11.,  16.,  60.,  17.,  52.,  50.,\n",
              "        10.,  61.,  95.,  39.,  18.,   6.,  40., 138.,   9.,  26.,  78.,\n",
              "        47., 104.,  15., 110.,  25.,  38., 122.,  34., 149.,  83.,  57.,\n",
              "        66.,  56.,  80., 135., 158., 139.,  54.,  28.,  23.,  12., 175.,\n",
              "        35.,  87., 109.,  71.,  70.,  24.,  96.,  48., 103.,  31.,  68.,\n",
              "       147.,  65.,  59., 102.,  53., 125., 143., 142., 150., 195., 160.,\n",
              "        99., 112.,  67.,  74., 134.,  43.,  98., 146.,  55., 115., 108.,\n",
              "       176., 113.,  30.,  76.,  72., 129., 100., 172.,  51.,  79.,  69.,\n",
              "        46., 132., 114., 136., 117., 106., 173.,  73., 174., 145.,  84.,\n",
              "       190.,  77.,  81.,  33., 166., 164., 163.,  94., 128., 161., 194.,\n",
              "       152., 159., 137.,  88., 162., 177., 105.,  41.,  49., 133., 187.,\n",
              "        82., 123., 193.,  91., 148.,  45., 141.,  58.,  62., 198., 124.,\n",
              "        93., 168.,  64., 140.,  86., 126., 155., 169., 192., 116., 185.,\n",
              "       156., 165., 170., 120., 180., 191., 101., 196., 118., 181., 189.,\n",
              "        90., 153., 171.,  75.,  37.,  89., 197., 107.,  63., 131., 167.,\n",
              "        92., 121., 186., 183., 119.])"
            ]
          },
          "metadata": {},
          "execution_count": 47
        }
      ]
    },
    {
      "cell_type": "code",
      "source": [
        "# Mengisi nilai nan dengan median\n",
        "df_median['no_of_application'] = df_median['no_of_application'].fillna(df_median['no_of_application'].median())"
      ],
      "metadata": {
        "id": "p_6lG-IGVH8u"
      },
      "execution_count": null,
      "outputs": []
    },
    {
      "cell_type": "code",
      "source": [
        "# Cek nilai nan\n",
        "df_median['no_of_application'].isna().sum()"
      ],
      "metadata": {
        "colab": {
          "base_uri": "https://localhost:8080/"
        },
        "id": "_G7M3VvhVNm7",
        "outputId": "c236ba43-6b63-4104-b783-0f5f510d5f54"
      },
      "execution_count": null,
      "outputs": [
        {
          "output_type": "execute_result",
          "data": {
            "text/plain": [
              "0"
            ]
          },
          "metadata": {},
          "execution_count": 49
        }
      ]
    },
    {
      "cell_type": "code",
      "source": [
        "df_median['no_of_application'].describe()"
      ],
      "metadata": {
        "colab": {
          "base_uri": "https://localhost:8080/",
          "height": 335
        },
        "id": "qwflRK2jVqUH",
        "outputId": "52d3f6c5-916e-4958-a984-14d43447be12"
      },
      "execution_count": null,
      "outputs": [
        {
          "output_type": "execute_result",
          "data": {
            "text/plain": [
              "count    5843.000000\n",
              "mean       35.426836\n",
              "std        47.468196\n",
              "min         1.000000\n",
              "25%        21.000000\n",
              "50%        21.000000\n",
              "75%        21.000000\n",
              "max       200.000000\n",
              "Name: no_of_application, dtype: float64"
            ],
            "text/html": [
              "<div>\n",
              "<style scoped>\n",
              "    .dataframe tbody tr th:only-of-type {\n",
              "        vertical-align: middle;\n",
              "    }\n",
              "\n",
              "    .dataframe tbody tr th {\n",
              "        vertical-align: top;\n",
              "    }\n",
              "\n",
              "    .dataframe thead th {\n",
              "        text-align: right;\n",
              "    }\n",
              "</style>\n",
              "<table border=\"1\" class=\"dataframe\">\n",
              "  <thead>\n",
              "    <tr style=\"text-align: right;\">\n",
              "      <th></th>\n",
              "      <th>no_of_application</th>\n",
              "    </tr>\n",
              "  </thead>\n",
              "  <tbody>\n",
              "    <tr>\n",
              "      <th>count</th>\n",
              "      <td>5843.000000</td>\n",
              "    </tr>\n",
              "    <tr>\n",
              "      <th>mean</th>\n",
              "      <td>35.426836</td>\n",
              "    </tr>\n",
              "    <tr>\n",
              "      <th>std</th>\n",
              "      <td>47.468196</td>\n",
              "    </tr>\n",
              "    <tr>\n",
              "      <th>min</th>\n",
              "      <td>1.000000</td>\n",
              "    </tr>\n",
              "    <tr>\n",
              "      <th>25%</th>\n",
              "      <td>21.000000</td>\n",
              "    </tr>\n",
              "    <tr>\n",
              "      <th>50%</th>\n",
              "      <td>21.000000</td>\n",
              "    </tr>\n",
              "    <tr>\n",
              "      <th>75%</th>\n",
              "      <td>21.000000</td>\n",
              "    </tr>\n",
              "    <tr>\n",
              "      <th>max</th>\n",
              "      <td>200.000000</td>\n",
              "    </tr>\n",
              "  </tbody>\n",
              "</table>\n",
              "</div><br><label><b>dtype:</b> float64</label>"
            ]
          },
          "metadata": {},
          "execution_count": 50
        }
      ]
    },
    {
      "cell_type": "code",
      "source": [
        "# Visualisasi dengan histogram\n",
        "plt.figure(figsize=(10, 6))\n",
        "sns.histplot(df_median['no_of_application'], bins=20, kde=True)"
      ],
      "metadata": {
        "colab": {
          "base_uri": "https://localhost:8080/",
          "height": 559
        },
        "id": "tCxR8OxVaO_n",
        "outputId": "09b6403b-9525-4432-9e86-9e63a7d3d73c"
      },
      "execution_count": null,
      "outputs": [
        {
          "output_type": "execute_result",
          "data": {
            "text/plain": [
              "<Axes: xlabel='no_of_application', ylabel='Count'>"
            ]
          },
          "metadata": {},
          "execution_count": 51
        },
        {
          "output_type": "display_data",
          "data": {
            "text/plain": [
              "<Figure size 1000x600 with 1 Axes>"
            ],
            "image/png": "[encoded data removed]"
          },
          "metadata": {}
        }
      ]
    },
    {
      "cell_type": "markdown",
      "source": [
        "- Dari histogram diatas, kita bisa melihat bahwa data berpusat pada nilai  median nya yaitu sekitar nilai 25\n",
        "- Untuk adanya skewness positif tidak terlalu banyak seperti pada data dengan drop nan"
      ],
      "metadata": {
        "id": "PTAvAcUGfrOv"
      }
    },
    {
      "cell_type": "code",
      "source": [
        "sns.boxplot(\n",
        "    data=df_median,\n",
        "    x=\"no_of_application\"\n",
        ")"
      ],
      "metadata": {
        "colab": {
          "base_uri": "https://localhost:8080/",
          "height": 467
        },
        "id": "oe-cAQQfVwzs",
        "outputId": "dacbc056-af13-4f7a-9ae2-0c6a1d6cf0eb"
      },
      "execution_count": null,
      "outputs": [
        {
          "output_type": "execute_result",
          "data": {
            "text/plain": [
              "<Axes: xlabel='no_of_application'>"
            ]
          },
          "metadata": {},
          "execution_count": 52
        },
        {
          "output_type": "display_data",
          "data": {
            "text/plain": [
              "<Figure size 640x480 with 1 Axes>"
            ],
            "image/png": "[encoded data removed]"
          },
          "metadata": {}
        }
      ]
    },
    {
      "cell_type": "markdown",
      "source": [
        "- Untuk boxplotnya terlihat lebih seimbang dibandingkan dengan boxplot dengan pendekatan pengahpusan nilai nan"
      ],
      "metadata": {
        "id": "Z5LotgwOywWb"
      }
    },
    {
      "cell_type": "code",
      "source": [
        "# Menggunakan metode IQR\n",
        "Q1 = df_median['no_of_application'].quantile(0.25)\n",
        "Q3 = df_median['no_of_application'].quantile(0.75)\n",
        "IQR = Q3 - Q1\n",
        "\n",
        "# Mencari nilai outlier\n",
        "lower_bound = Q1 - 1.5 * IQR\n",
        "upper_bound = Q3 + 1.5 * IQR\n",
        "\n",
        "#Menentukan kondisi\n",
        "condition = (df_median['no_of_application'] >= lower_bound) & (df_median['no_of_application'] <= upper_bound)\n",
        "\n",
        "df_median = df_median[condition]\n",
        "\n",
        "#  menampilkan data oulier\n",
        "sns.boxplot(\n",
        "    data=df_median,\n",
        "    x=\"no_of_application\"\n",
        ")"
      ],
      "metadata": {
        "colab": {
          "base_uri": "https://localhost:8080/",
          "height": 467
        },
        "id": "6LyrqYUZV5fd",
        "outputId": "ba37e588-b5cd-4ca1-9e20-aac87458e97b"
      },
      "execution_count": null,
      "outputs": [
        {
          "output_type": "execute_result",
          "data": {
            "text/plain": [
              "<Axes: xlabel='no_of_application'>"
            ]
          },
          "metadata": {},
          "execution_count": 53
        },
        {
          "output_type": "display_data",
          "data": {
            "text/plain": [
              "<Figure size 640x480 with 1 Axes>"
            ],
            "image/png": "[encoded data removed]"
          },
          "metadata": {}
        }
      ]
    },
    {
      "cell_type": "markdown",
      "source": [
        "- Setelah outlier dihapus, boxplot tidak lagi menunjukkan outlier"
      ],
      "metadata": {
        "id": "sJYQpe2Az903"
      }
    },
    {
      "cell_type": "code",
      "source": [
        "# Visualisasi dengan histogram\n",
        "plt.figure(figsize=(10, 6))\n",
        "sns.histplot(df_median['no_of_application'], bins=20, kde=True)"
      ],
      "metadata": {
        "colab": {
          "base_uri": "https://localhost:8080/",
          "height": 563
        },
        "id": "je9jk82iZGx0",
        "outputId": "3544f11c-da34-4844-f89e-774bd08d8f4b"
      },
      "execution_count": null,
      "outputs": [
        {
          "output_type": "execute_result",
          "data": {
            "text/plain": [
              "<Axes: xlabel='no_of_application', ylabel='Count'>"
            ]
          },
          "metadata": {},
          "execution_count": 54
        },
        {
          "output_type": "display_data",
          "data": {
            "text/plain": [
              "<Figure size 1000x600 with 1 Axes>"
            ],
            "image/png": "[encoded data removed]"
          },
          "metadata": {}
        }
      ]
    },
    {
      "cell_type": "markdown",
      "source": [
        "- Setelah penanganan outlier distribusinya menjadi terpusat"
      ],
      "metadata": {
        "id": "V0025BRKz-jL"
      }
    },
    {
      "cell_type": "markdown",
      "source": [
        "## Analisa :\n",
        "Perbandingan histogram antara pendekatan drop nan dengan imputasi nilai median\n",
        "- Drop nan : Sebelum penanganan outliers distribusi datanya menunjukkan adanya skewness lalu setelah penanganan dengan IQR skewness berkurang signifikan\n",
        "- Imputasi median : Sebelum penanganan outliers distribusi datanya tampak lebih stabil dari pendekatan drop nan serta skewness tidak terlalu banyak lalu setelah penanganan dengan IQR distribusi datanya menjadi terpusat dan merata\n",
        "\n",
        "Perbandingan boxplot antara pendekatan drop nan dengan imputasi nilai median\n",
        "- Drop nan : Terlihat banyak outliers sebelum dilakukan penanganan kemudian setelah penanganan dengan IQR boxplot tidak lagi menunjukkan adanya outliers\n",
        "- Imputasi median : Terlihat lebih smooth dari boxplot dropnan kemudian setelah penanganan dengan IQR juga tidak menunjukkan adanya outliers"
      ],
      "metadata": {
        "id": "U1uigT1bWWV3"
      }
    }
  ]
}